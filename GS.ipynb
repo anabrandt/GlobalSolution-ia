{
  "cells": [
    {
      "cell_type": "markdown",
      "metadata": {
        "id": "SCfiyv7j2QmB"
      },
      "source": [
        "\n",
        "\n",
        "# <font color=#8C506A> <u>Ana Carolina Tavares – RM552283</u></font>\n",
        "# <font color=#8C506A> <u>Sofia Sprocatti Silva – RM99208</u></font>\n",
        "# <font color=#8C506A> <u>Caique Almeida Dias – RM99778</u></font>\n",
        "# <font color=#8C506A> <u>Vinicius Rebollo Minei – RM98486</u></font>\n",
        "# <font color=#8C506A> <u>Felipe Dias Cerezuella – RM551663</u></font>\n",
        "\n",
        "\n",
        "[Fonte da base dados](https://https://www.kaggle.com/code/yuvalaltman/postpartum-depression-analysis)"
      ]
    },
    {
      "cell_type": "markdown",
      "metadata": {
        "id": "IeeVKOC4xvQl"
      },
      "source": [
        "**Análise de Depressão Pós-Parto**\n",
        "\n",
        "O dataset em questão concentra-se na análise de depressão pós-parto, uma condição que pode afetar mulheres após o nascimento de seus filhos. Este conjunto de dados oferece uma visão abrangente das variáveis relacionadas a esse tema delicado, com potencial para contribuir significativamente para a compreensão e gestão da depressão pós-parto.\n",
        "\n",
        "**Características Principais:**\n",
        "\n",
        "1. **Identificação Demográfica:** O dataset inclui informações demográficas das pacientes, como idade, estado civil, e nível educacional. Essas variáveis são cruciais para entender como fatores sociodemográficos podem estar relacionados à depressão pós-parto.\n",
        "2. **Dados Clínicos:** Aspectos clínicos, como histórico de gravidez, tipo de parto e condições de saúde, estão presentes. Esses dados oferecem insights valiosos sobre a interação entre a saúde física e mental durante o período pós-parto.\n",
        "3. **Avaliação de Saúde Mental:** A inclusão de pontuações em escalas de depressão pós-parto fornece uma medida objetiva do estado mental das pacientes. Essas avaliações podem ser fundamentais para entender a severidade da condição.\n",
        "\n",
        "**Como a IA Pode Auxiliar Durante o Pré-Natal:**\n",
        "A integração da inteligência artificial (IA) neste contexto específico do pré-natal pode oferecer diversas contribuições essenciais:\n",
        "\n",
        "1. **Prevenção e Rastreamento Antecipado:** Algoritmos de machine learning podem ser treinados para identificar padrões sutis em dados demográficos e clínicos que indicam um maior risco de desenvolvimento de depressão pós-parto. Isso possibilita a implementação de estratégias preventivas e intervenções antecipadas.\n",
        "2. **Personalização do Acompanhamento:** Sistemas de IA podem adaptar-se às características individuais das pacientes, oferecendo um acompanhamento personalizado. Isso pode incluir a entrega de informações relevantes, suporte emocional virtual e sugestões de práticas de autocuidado.\n",
        "3. **Avaliação Contínua:** Algoritmos de aprendizado de máquina podem monitorar continuamente os dados fornecidos pelas pacientes ao longo do pré-natal, permitindo uma avaliação dinâmica do risco de depressão pós-parto. Isso cria oportunidades para intervenções proativas à medida que a gestação progride.\n",
        "4. **Identificação de Fatores de Risco Específicos:** A IA pode analisar grandes conjuntos de dados para identificar fatores de risco específicos associados à depressão pós-parto em diferentes grupos demográficos. Essa compreensão mais granular pode orientar estratégias preventivas mais eficazes.\n",
        "5. **Integração com o Cuidado Clínico Tradicional:** Sistemas de IA podem ser integrados aos cuidados pré-natais tradicionais, fornecendo uma abordagem holística que combina a expertise humana com a capacidade analítica e preditiva da IA.\n"
      ]
    },
    {
      "cell_type": "code",
      "execution_count": 3,
      "metadata": {
        "id": "gQ2pzhE-nMH-"
      },
      "outputs": [
        {
          "ename": "ModuleNotFoundError",
          "evalue": "No module named 'pandas'",
          "output_type": "error",
          "traceback": [
            "\u001b[1;31m---------------------------------------------------------------------------\u001b[0m",
            "\u001b[1;31mModuleNotFoundError\u001b[0m                       Traceback (most recent call last)",
            "\u001b[1;32mc:\\Users\\Taty\\Desktop\\Gs AI\\GS.ipynb Cell 3\u001b[0m line \u001b[0;36m1\n\u001b[1;32m----> <a href='vscode-notebook-cell:/c%3A/Users/Taty/Desktop/Gs%20AI/GS.ipynb#W2sZmlsZQ%3D%3D?line=0'>1</a>\u001b[0m \u001b[39mimport\u001b[39;00m \u001b[39mpandas\u001b[39;00m \u001b[39mas\u001b[39;00m \u001b[39mpd\u001b[39;00m\n\u001b[0;32m      <a href='vscode-notebook-cell:/c%3A/Users/Taty/Desktop/Gs%20AI/GS.ipynb#W2sZmlsZQ%3D%3D?line=1'>2</a>\u001b[0m \u001b[39mimport\u001b[39;00m \u001b[39mnumpy\u001b[39;00m \u001b[39mas\u001b[39;00m \u001b[39mnp\u001b[39;00m\n\u001b[0;32m      <a href='vscode-notebook-cell:/c%3A/Users/Taty/Desktop/Gs%20AI/GS.ipynb#W2sZmlsZQ%3D%3D?line=2'>3</a>\u001b[0m \u001b[39mimport\u001b[39;00m \u001b[39mmatplotlib\u001b[39;00m\u001b[39m.\u001b[39;00m\u001b[39mpyplot\u001b[39;00m \u001b[39mas\u001b[39;00m \u001b[39mplt\u001b[39;00m\n",
            "\u001b[1;31mModuleNotFoundError\u001b[0m: No module named 'pandas'"
          ]
        }
      ],
      "source": [
        "import pandas as pd\n",
        "import numpy as np\n",
        "import matplotlib.pyplot as plt\n",
        "import seaborn as sns\n",
        "import matplotlib as mpl\n",
        "from sklearn.linear_model import LogisticRegression\n",
        "from sklearn.model_selection import cross_val_predict\n",
        "from sklearn.pipeline import make_pipeline\n",
        "from sklearn.impute import SimpleImputer\n",
        "from sklearn.compose import ColumnTransformer\n",
        "from sklearn.preprocessing import StandardScaler, OneHotEncoder\n",
        "from sklearn.ensemble import RandomForestClassifier\n",
        "from sklearn.metrics import classification_report\n",
        "from sklearn.pipeline import Pipeline\n",
        "from sklearn.linear_model import LinearRegression\n",
        "from sklearn.metrics import r2_score, mean_squared_error\n",
        "from datetime import datetime\n",
        "from sklearn.model_selection import train_test_split\n",
        "from flask import Flask, request, jsonify\n",
        "\n",
        "\n",
        "import os\n",
        "import re\n",
        "import random\n",
        "from joblib import dump, load\n",
        "from matplotlib.transforms import Affine2D, offset_copy\n",
        "import math\n",
        "import scipy.stats as ss\n",
        "from collections import Counter"
      ]
    },
    {
      "cell_type": "markdown",
      "metadata": {
        "id": "Au5EcU5NwQ8I"
      },
      "source": [
        "# **Carregando um conjunto de dados**"
      ]
    },
    {
      "cell_type": "code",
      "execution_count": null,
      "metadata": {
        "id": "vF1iybWpnRm7"
      },
      "outputs": [],
      "source": [
        "df = pd.read_csv('postnataldata.csv')\n",
        "df.head()"
      ]
    },
    {
      "cell_type": "code",
      "execution_count": null,
      "metadata": {
        "id": "7FSTlBvWyS5d"
      },
      "outputs": [],
      "source": [
        "df.info()\n",
        "df.describe()"
      ]
    },
    {
      "cell_type": "markdown",
      "metadata": {
        "id": "Cxalp2ySwZWg"
      },
      "source": [
        "# **As idades mais afetadas com a depressão pós parto**\n",
        "\n",
        "\n",
        "\n",
        "\n"
      ]
    },
    {
      "cell_type": "code",
      "execution_count": null,
      "metadata": {
        "colab": {
          "base_uri": "https://localhost:8080/",
          "height": 472
        },
        "id": "1dgiWxa-nUTW",
        "outputId": "1e7d0aa5-0919-48d9-8b5a-be550704ada5"
      },
      "outputs": [
        {
          "data": {
            "image/png": "[encoded data removed]",
            "text/plain": [
              "<Figure size 640x480 with 1 Axes>"
            ]
          },
          "metadata": {},
          "output_type": "display_data"
        }
      ],
      "source": [
        "plt.hist(df['Age'], bins=20, color='skyblue', edgecolor='black')\n",
        "plt.title('Distribuição da Variável Age')\n",
        "plt.xlabel('Age')\n",
        "plt.ylabel('Frequência')\n",
        "plt.show()"
      ]
    },
    {
      "cell_type": "markdown",
      "metadata": {
        "id": "rn6Ch7FZ3uVr"
      },
      "source": [
        "## Possíveis Explicações para a Alta Prevalência de Depressão Pós-Parto em Mulheres de 40 a 45 Anos\n",
        "\n",
        "1. **Expectativas Socioculturais:**\n",
        "   - Pressão para atingir marcos na carreira e vida pessoal pode gerar estresse e ansiedade.\n",
        "\n",
        "2. **Equilíbrio Trabalho-Vida:**\n",
        "   - Conciliar carreira, relacionamento e parentalidade pode aumentar o estresse.\n",
        "\n",
        "3. **Fatores Hormonais:**\n",
        "   - Flutuações hormonais associadas à gravidez podem interagir de maneira única com o perfil hormonal.\n",
        "\n",
        "4. **Pressões Familiares:**\n",
        "   - Responsabilidades adicionais, como cuidar de membros da família mais velhos, aumentam a pressão.\n",
        "\n",
        "5. **Experiências de Vida Anteriores:**\n",
        "   - Histórico de eventos traumáticos ou depressão pode aumentar a vulnerabilidade.\n",
        "\n",
        "6. **Isolamento Social:**\n",
        "   - Mudanças nas redes sociais e o risco de isolamento social são fatores contribuintes.\n",
        "\n",
        "7. **Pressões de Imagem Corporal:**\n",
        "   - Pressões culturais relacionadas à aparência podem afetar a autoestima.\n",
        "\n",
        "8. **Interrupção das Rotinas Pessoais:**\n",
        "   - Adaptar-se às mudanças de estilo de vida associadas à maternidade pode ser desafiador.\n",
        "\n",
        "É crucial destacar que a depressão pós-parto é multifatorial, e a interação desses fatores contribui para sua ocorrência. Suporte emocional, acompanhamento médico e conscientização são essenciais na prevenção e tratamento.\n"
      ]
    },
    {
      "cell_type": "markdown",
      "metadata": {
        "id": "HHtvdcgkwsuH"
      },
      "source": [
        "# **Análise estatística exploratória**"
      ]
    },
    {
      "cell_type": "code",
      "execution_count": null,
      "metadata": {
        "id": "Lsl_iP2uwpvN"
      },
      "outputs": [],
      "source": [
        "df = pd.read_csv('postnataldata.csv')\n",
        "df = df.loc[:, df.nunique() > 1]\n",
        "corr_matrix = df.corr(numeric_only=True)"
      ]
    },
    {
      "cell_type": "code",
      "execution_count": null,
      "metadata": {
        "id": "eWYoYnROwqMa"
      },
      "outputs": [],
      "source": [
        "df = pd.read_csv('postnataldata.csv')\n",
        "df = df.dropna(axis=1, how='all')\n",
        "df = df.loc[:, df.nunique() > 1]\n",
        "corr_matrix = df.corr(numeric_only=True)"
      ]
    },
    {
      "cell_type": "code",
      "execution_count": null,
      "metadata": {
        "colab": {
          "base_uri": "https://localhost:8080/"
        },
        "id": "_SOi0TJ2w0uR",
        "outputId": "390c3450-ae90-4cfa-b58e-898820e49ab5"
      },
      "outputs": [
        {
          "data": {
            "text/plain": [
              "Timestamp                                     0\n",
              "Age                                           0\n",
              "Feeling sad or Tearful                        0\n",
              "Irritable towards baby & partner              6\n",
              "Trouble sleeping at night                     0\n",
              "Problems concentrating or making decision    12\n",
              "Overeating or loss of appetite                0\n",
              "Feeling anxious                               0\n",
              "Feeling of guilt                              9\n",
              "Problems of bonding with baby                 0\n",
              "Suicide attempt                               0\n",
              "dtype: int64"
            ]
          },
          "execution_count": 660,
          "metadata": {},
          "output_type": "execute_result"
        }
      ],
      "source": [
        "df.isnull().sum()"
      ]
    },
    {
      "cell_type": "markdown",
      "metadata": {
        "id": "kZ-qevOJzkvv"
      },
      "source": [
        "# **A depressão pós parto tambem gera problemas de concentração e tomada de decisão**"
      ]
    },
    {
      "cell_type": "code",
      "execution_count": null,
      "metadata": {
        "colab": {
          "base_uri": "https://localhost:8080/",
          "height": 472
        },
        "id": "l7vVT5nqyhE6",
        "outputId": "e071cfb6-0bf9-4229-9caf-4d453964ee24"
      },
      "outputs": [
        {
          "data": {
            "image/png": "[encoded data removed]",
            "text/plain": [
              "<Figure size 640x480 with 1 Axes>"
            ]
          },
          "metadata": {},
          "output_type": "display_data"
        }
      ],
      "source": [
        "sns.countplot(x='Problems concentrating or making decision', data=df)\n",
        "plt.title('Problems concentrating or making decision')\n",
        "plt.show()\n"
      ]
    },
    {
      "cell_type": "markdown",
      "metadata": {
        "id": "AOGjitOw4T_f"
      },
      "source": [
        "A depressão pós-parto, além de afetar o bem-estar emocional, pode ter impactos significativos nas habilidades cognitivas, como concentração e tomada de decisão. Algumas possíveis causas desse fenômeno incluem:\n",
        "\n",
        "1. **Desregulação Hormonal:**\n",
        "   - As mudanças hormonais durante e após a gravidez podem influenciar negativamente a função cognitiva, incluindo a concentração.\n",
        "\n",
        "2. **Distúrbios do Sono:**\n",
        "   - A falta de sono adequado, comum durante o pós-parto, está associada à diminuição da concentração e capacidade de tomar decisões.\n",
        "\n",
        "3. **Estresse e Ansiedade:**\n",
        "   - A sobrecarga emocional causada pela depressão pós-parto pode gerar estresse crônico, comprometendo a função cognitiva.\n",
        "\n",
        "4. **Impacto nas Atividades Diárias:**\n",
        "   - A depressão pós-parto muitas vezes resulta em dificuldades para realizar tarefas diárias, afetando a rotina e exigindo mais esforço mental.\n",
        "\n",
        "5. **Autoestima e Autoconfiança:**\n",
        "   - A baixa autoestima associada à depressão pós-parto pode influenciar a confiança na tomada de decisões.\n",
        "\n",
        "6. **Preocupações com o Bebê:**\n",
        "   - A ansiedade e as preocupações constantes sobre o bem-estar do bebê podem desviar a atenção, prejudicando a concentração em outras áreas.\n",
        "\n",
        "7. **Isolamento Social:**\n",
        "   - A depressão pós-parto pode levar ao isolamento, reduzindo as interações sociais que são fundamentais para a saúde cognitiva.\n",
        "\n",
        "8. **Fatores Psicossociais:**\n",
        "   - Elementos como pressões sociais, financeiras e expectativas irrealistas podem contribuir para o estresse mental e a dificuldade de concentração.\n",
        "\n",
        "Abordar esses aspectos é crucial para um tratamento abrangente da depressão pós-parto, visando não apenas a saúde emocional, mas também a manutenção das capacidades cognitivas da mãe."
      ]
    },
    {
      "cell_type": "code",
      "execution_count": null,
      "metadata": {
        "colab": {
          "base_uri": "https://localhost:8080/"
        },
        "id": "zsq3O5voy4R3",
        "outputId": "4aa047f8-cfea-4cc2-bd16-405440c55dbb"
      },
      "outputs": [
        {
          "name": "stdout",
          "output_type": "stream",
          "text": [
            "['Yes' 'No' 'Often' nan]\n"
          ]
        }
      ],
      "source": [
        "print(df['Problems concentrating or making decision'].unique())"
      ]
    },
    {
      "cell_type": "markdown",
      "metadata": {
        "id": "kIjYBDzh6OJ8"
      },
      "source": [
        "## <font color=#3d5a80> <u>Constantes</u></font>"
      ]
    },
    {
      "cell_type": "code",
      "execution_count": null,
      "metadata": {
        "id": "h_qVdgIb6SX0"
      },
      "outputs": [],
      "source": [
        "df.columns = df.columns.str.replace(\" \", \"_\")\n",
        "target = 'Problems_concentrating_or_making_decision'\n",
        "df[target] = df[target].str.replace(\" \", \"_\")"
      ]
    },
    {
      "cell_type": "code",
      "execution_count": null,
      "metadata": {
        "id": "1p2OyVJf9Vcs"
      },
      "outputs": [],
      "source": [
        "SEED = 42\n",
        "\n",
        "target = \"Feeling_anxious\"\n",
        "\n",
        "COLORS = {\n",
        "    \"fig_bg\": \"#f6f5f5\",\n",
        "    \"plot_neut\": \"#ddbea9\",\n",
        "    \"plot_text\": \"#343a40\",\n",
        "\n",
        "    \"class\": {\n",
        "        0: \"#3d5a80\",\n",
        "        1: \"#ee6c4d\",\n",
        "    },\n",
        "    \"class_light\": {\n",
        "        0: \"#E0E7F0\",\n",
        "        1: \"#FBE0D9\",\n",
        "    },\n",
        "\n",
        "    \"cmap_color_list\": mpl.colors.LinearSegmentedColormap.from_list(\"\", [\"#FEF5F2\", \"#FBE0D9\", \"#F6AC9A\", \"#F28D74\", \"#EE6C4D\"]),\n",
        "    \"cmap_pos\": mpl.colors.LinearSegmentedColormap.from_list(\"\", [\"#F0F3F8\", \"#D1DBE9\", \"#A2B7D2\", \"#7493BC\", \"#6487B4\", \"#3D5A80\"]),\n",
        "\n",
        "    \"conf\": {\n",
        "        \"low\": \"#ef5b5b\",\n",
        "        \"high\": \"#20a39e\"\n",
        "    }\n",
        "}\n",
        "\n",
        "colors_class_list = list(COLORS[\"class\"].values())\n",
        "\n",
        "FONT_KW = {\n",
        "    \"plot_title\" : {\n",
        "        \"fontname\": \"serif\",\n",
        "        \"weight\": \"bold\",\n",
        "        \"size\": \"25\",\n",
        "        \"style\": \"normal\"\n",
        "    },\n",
        "    \"plot_subtitle\" : {\n",
        "        \"fontname\": \"serif\",\n",
        "        \"weight\": \"bold\",\n",
        "        \"size\": \"12\",\n",
        "        \"style\": \"normal\"\n",
        "    },\n",
        "    \"subplot_title\" : {\n",
        "        \"fontname\": \"serif\",\n",
        "        \"weight\": \"bold\",\n",
        "        \"size\": \"18\",\n",
        "        \"style\": \"normal\"\n",
        "    },\n",
        "    \"subplot_title_small\" : {\n",
        "        \"fontname\": \"serif\",\n",
        "        \"weight\": \"bold\",\n",
        "        \"size\": \"12\",\n",
        "        \"style\": \"normal\"\n",
        "    },\n",
        "    \"plot_label\" : {\n",
        "        \"fontname\": \"serif\",\n",
        "        \"weight\": \"bold\",\n",
        "        \"size\": \"16\",\n",
        "        \"style\": \"normal\"\n",
        "    },\n",
        "    \"plot_label_small\" : {\n",
        "        \"fontname\": \"serif\",\n",
        "        \"weight\": \"bold\",\n",
        "        \"size\": \"12\",\n",
        "        \"style\": \"normal\"\n",
        "    },\n",
        "    \"plot_text\" : {\n",
        "        \"fontname\": \"serif\",\n",
        "        \"weight\": \"normal\",\n",
        "        \"size\": \"12\",\n",
        "        \"style\": \"normal\"\n",
        "    },\n",
        "    \"plot_text_small\" : {\n",
        "        \"fontname\": \"serif\",\n",
        "        \"weight\": \"normal\",\n",
        "        \"size\": \"10\",\n",
        "        \"style\": \"normal\"\n",
        "    },\n",
        "}\n",
        "\n",
        "class_dict = {0: \"Not Anxious\", 1: \"Anxious\"}"
      ]
    },
    {
      "cell_type": "markdown",
      "metadata": {
        "id": "Oo3b-JHi58UM"
      },
      "source": [
        "## <font color=#3d5a80><u>Amostragem de dados</u></font>"
      ]
    },
    {
      "cell_type": "code",
      "execution_count": null,
      "metadata": {
        "id": "53aOMt0H57YB"
      },
      "outputs": [],
      "source": [
        "from sklearn.model_selection import train_test_split\n",
        "\n",
        "X = df.drop(columns=target).copy()\n",
        "y = df[target].copy()\n",
        "\n",
        "X_train, X_test, y_train, y_test = train_test_split(X, y, test_size=0.2, random_state=SEED, stratify=y)"
      ]
    },
    {
      "cell_type": "markdown",
      "metadata": {
        "id": "cyEXUV5w5iof"
      },
      "source": [
        "\n",
        "\n",
        "# <font color=#3d5a80> <u>Análise exploratória de dados (EDA)</u></font>"
      ]
    },
    {
      "cell_type": "markdown",
      "metadata": {
        "id": "q2S5xKr6AjAO"
      },
      "source": [
        "# Análise Detalhada de Componentes Importantes\n",
        "\n",
        "## Suicidal Ideation\n",
        "- A variável \"Suicide_attempt\" revela predominantemente respostas \"No\".\n",
        "- Uma análise mais profunda desta categoria é crucial para compreender os riscos associados à depressão pós-parto, especialmente em casos de tentativa de suicídio.\n",
        "\n",
        "## Sentimentos de Culpa e Ansiedade\n",
        "- Observa-se a presença de sentimentos de culpa (\"Feeling_of_guilt\") e ansiedade (\"Feeling_anxious\") em algumas amostras.\n",
        "- Esses sentimentos podem indicar aspectos emocionais relevantes, necessitando uma consideração mais aprofundada durante a análise.\n",
        "\n",
        "## Correlações entre Variáveis\n",
        "- A análise detalhada da matriz de correlação pode revelar relações entre diferentes variáveis.\n",
        "- Essas correlações oferecem insights valiosos sobre as interações entre os sintomas associados à depressão pós-parto.\n",
        "\n",
        "## Impacto da Idade\n",
        "- A faixa etária de 40-45 anos emerge como mais afetada pela depressão pós-parto.\n",
        "- Uma exploração mais profunda dessa faixa etária pode proporcionar insights sobre fatores específicos associados a essa população.\n",
        "\n",
        "# Próximas Etapas Recomendadas\n",
        "\n",
        "## Pré-processamento de Dados\n",
        "- Tratamento de valores ausentes.\n",
        "- Conversão de tipos de dados, se necessário.\n",
        "\n",
        "## Análise Detalhada das Variáveis\n",
        "- Investigação mais profunda de variáveis ligadas aos sentimentos de ansiedade, culpa e outros sintomas.\n",
        "\n",
        "## Exploração da Faixa Etária Afetada\n",
        "- Análise mais detalhada da faixa etária de 40-45 anos, incluindo fatores socioeconômicos e demográficos associados.\n",
        "\n",
        "## Correlações e Modelagem\n",
        "- Exploração minuciosa da matriz de correlação.\n",
        "- Possível desenvolvimento de modelos preditivos para identificar fatores associados à depressão pós-parto.\n",
        "\n",
        "Essas recomendações visam fornecer uma visão mais aprofundada dos aspectos críticos do conjunto de dados e orientar as próximas etapas de análise.\n"
      ]
    },
    {
      "cell_type": "code",
      "execution_count": null,
      "metadata": {
        "id": "AUFZ_PEp5v64"
      },
      "outputs": [],
      "source": [
        "df_eda = X_train.copy()\n",
        "df_eda[target] = y_train.copy()"
      ]
    },
    {
      "cell_type": "code",
      "execution_count": null,
      "metadata": {
        "colab": {
          "base_uri": "https://localhost:8080/"
        },
        "id": "1AfFVkYH5zKL",
        "outputId": "4fee5dac-8c21-4a2f-d37f-54e68d56af4c"
      },
      "outputs": [
        {
          "data": {
            "text/plain": [
              "Timestamp                                    object\n",
              "Age                                          object\n",
              "Feeling_sad_or_Tearful                       object\n",
              "Irritable_towards_baby_&_partner             object\n",
              "Trouble_sleeping_at_night                    object\n",
              "Problems_concentrating_or_making_decision    object\n",
              "Overeating_or_loss_of_appetite               object\n",
              "Feeling_of_guilt                             object\n",
              "Problems_of_bonding_with_baby                object\n",
              "Suicide_attempt                              object\n",
              "Feeling_anxious                              object\n",
              "dtype: object"
            ]
          },
          "execution_count": 667,
          "metadata": {},
          "output_type": "execute_result"
        }
      ],
      "source": [
        "df_eda.dtypes"
      ]
    },
    {
      "cell_type": "code",
      "execution_count": null,
      "metadata": {
        "colab": {
          "base_uri": "https://localhost:8080/",
          "height": 394
        },
        "id": "lpOe_9V-9-lL",
        "outputId": "0c6fbc81-1103-490d-b1bc-6a245f10460c"
      },
      "outputs": [
        {
          "data": {
            "text/html": [
              "\n",
              "  <div id=\"df-c48d7b9e-4127-4248-9ab4-e4ea67ba6f45\" class=\"colab-df-container\">\n",
              "    <div>\n",
              "<style scoped>\n",
              "    .dataframe tbody tr th:only-of-type {\n",
              "        vertical-align: middle;\n",
              "    }\n",
              "\n",
              "    .dataframe tbody tr th {\n",
              "        vertical-align: top;\n",
              "    }\n",
              "\n",
              "    .dataframe thead th {\n",
              "        text-align: right;\n",
              "    }\n",
              "</style>\n",
              "<table border=\"1\" class=\"dataframe\">\n",
              "  <thead>\n",
              "    <tr style=\"text-align: right;\">\n",
              "      <th></th>\n",
              "      <th>count</th>\n",
              "      <th>unique</th>\n",
              "      <th>top</th>\n",
              "      <th>freq</th>\n",
              "    </tr>\n",
              "  </thead>\n",
              "  <tbody>\n",
              "    <tr>\n",
              "      <th>Timestamp</th>\n",
              "      <td>1202</td>\n",
              "      <td>90</td>\n",
              "      <td>6/15/2022 22:24</td>\n",
              "      <td>44</td>\n",
              "    </tr>\n",
              "    <tr>\n",
              "      <th>Age</th>\n",
              "      <td>1202</td>\n",
              "      <td>5</td>\n",
              "      <td>40-45</td>\n",
              "      <td>295</td>\n",
              "    </tr>\n",
              "    <tr>\n",
              "      <th>Feeling_sad_or_Tearful</th>\n",
              "      <td>1202</td>\n",
              "      <td>3</td>\n",
              "      <td>No</td>\n",
              "      <td>421</td>\n",
              "    </tr>\n",
              "    <tr>\n",
              "      <th>Irritable_towards_baby_&amp;_partner</th>\n",
              "      <td>1197</td>\n",
              "      <td>3</td>\n",
              "      <td>Yes</td>\n",
              "      <td>437</td>\n",
              "    </tr>\n",
              "    <tr>\n",
              "      <th>Trouble_sleeping_at_night</th>\n",
              "      <td>1202</td>\n",
              "      <td>3</td>\n",
              "      <td>Two or more days a week</td>\n",
              "      <td>512</td>\n",
              "    </tr>\n",
              "    <tr>\n",
              "      <th>Problems_concentrating_or_making_decision</th>\n",
              "      <td>1191</td>\n",
              "      <td>3</td>\n",
              "      <td>No</td>\n",
              "      <td>473</td>\n",
              "    </tr>\n",
              "    <tr>\n",
              "      <th>Overeating_or_loss_of_appetite</th>\n",
              "      <td>1202</td>\n",
              "      <td>3</td>\n",
              "      <td>No</td>\n",
              "      <td>677</td>\n",
              "    </tr>\n",
              "    <tr>\n",
              "      <th>Feeling_of_guilt</th>\n",
              "      <td>1194</td>\n",
              "      <td>3</td>\n",
              "      <td>No</td>\n",
              "      <td>492</td>\n",
              "    </tr>\n",
              "    <tr>\n",
              "      <th>Problems_of_bonding_with_baby</th>\n",
              "      <td>1202</td>\n",
              "      <td>3</td>\n",
              "      <td>No</td>\n",
              "      <td>452</td>\n",
              "    </tr>\n",
              "    <tr>\n",
              "      <th>Suicide_attempt</th>\n",
              "      <td>1202</td>\n",
              "      <td>3</td>\n",
              "      <td>No</td>\n",
              "      <td>563</td>\n",
              "    </tr>\n",
              "    <tr>\n",
              "      <th>Feeling_anxious</th>\n",
              "      <td>1202</td>\n",
              "      <td>2</td>\n",
              "      <td>Yes</td>\n",
              "      <td>784</td>\n",
              "    </tr>\n",
              "  </tbody>\n",
              "</table>\n",
              "</div>\n",
              "    <div class=\"colab-df-buttons\">\n",
              "\n",
              "  <div class=\"colab-df-container\">\n",
              "    <button class=\"colab-df-convert\" onclick=\"convertToInteractive('df-c48d7b9e-4127-4248-9ab4-e4ea67ba6f45')\"\n",
              "            title=\"Convert this dataframe to an interactive table.\"\n",
              "            style=\"display:none;\">\n",
              "\n",
              "  <svg xmlns=\"http://www.w3.org/2000/svg\" height=\"24px\" viewBox=\"0 -960 960 960\">\n",
              "    <path d=\"M120-120v-720h720v720H120Zm60-500h600v-160H180v160Zm220 220h160v-160H400v160Zm0 220h160v-160H400v160ZM180-400h160v-160H180v160Zm440 0h160v-160H620v160ZM180-180h160v-160H180v160Zm440 0h160v-160H620v160Z\"/>\n",
              "  </svg>\n",
              "    </button>\n",
              "\n",
              "  <style>\n",
              "    .colab-df-container {\n",
              "      display:flex;\n",
              "      gap: 12px;\n",
              "    }\n",
              "\n",
              "    .colab-df-convert {\n",
              "      background-color: #E8F0FE;\n",
              "      border: none;\n",
              "      border-radius: 50%;\n",
              "      cursor: pointer;\n",
              "      display: none;\n",
              "      fill: #1967D2;\n",
              "      height: 32px;\n",
              "      padding: 0 0 0 0;\n",
              "      width: 32px;\n",
              "    }\n",
              "\n",
              "    .colab-df-convert:hover {\n",
              "      background-color: #E2EBFA;\n",
              "      box-shadow: 0px 1px 2px rgba(60, 64, 67, 0.3), 0px 1px 3px 1px rgba(60, 64, 67, 0.15);\n",
              "      fill: #174EA6;\n",
              "    }\n",
              "\n",
              "    .colab-df-buttons div {\n",
              "      margin-bottom: 4px;\n",
              "    }\n",
              "\n",
              "    [theme=dark] .colab-df-convert {\n",
              "      background-color: #3B4455;\n",
              "      fill: #D2E3FC;\n",
              "    }\n",
              "\n",
              "    [theme=dark] .colab-df-convert:hover {\n",
              "      background-color: #434B5C;\n",
              "      box-shadow: 0px 1px 3px 1px rgba(0, 0, 0, 0.15);\n",
              "      filter: drop-shadow(0px 1px 2px rgba(0, 0, 0, 0.3));\n",
              "      fill: #FFFFFF;\n",
              "    }\n",
              "  </style>\n",
              "\n",
              "    <script>\n",
              "      const buttonEl =\n",
              "        document.querySelector('#df-c48d7b9e-4127-4248-9ab4-e4ea67ba6f45 button.colab-df-convert');\n",
              "      buttonEl.style.display =\n",
              "        google.colab.kernel.accessAllowed ? 'block' : 'none';\n",
              "\n",
              "      async function convertToInteractive(key) {\n",
              "        const element = document.querySelector('#df-c48d7b9e-4127-4248-9ab4-e4ea67ba6f45');\n",
              "        const dataTable =\n",
              "          await google.colab.kernel.invokeFunction('convertToInteractive',\n",
              "                                                    [key], {});\n",
              "        if (!dataTable) return;\n",
              "\n",
              "        const docLinkHtml = 'Like what you see? Visit the ' +\n",
              "          '<a target=\"_blank\" href=https://colab.research.google.com/notebooks/data_table.ipynb>data table notebook</a>'\n",
              "          + ' to learn more about interactive tables.';\n",
              "        element.innerHTML = '';\n",
              "        dataTable['output_type'] = 'display_data';\n",
              "        await google.colab.output.renderOutput(dataTable, element);\n",
              "        const docLink = document.createElement('div');\n",
              "        docLink.innerHTML = docLinkHtml;\n",
              "        element.appendChild(docLink);\n",
              "      }\n",
              "    </script>\n",
              "  </div>\n",
              "\n",
              "\n",
              "<div id=\"df-254bad9b-2b65-4bf8-8288-e5384705c299\">\n",
              "  <button class=\"colab-df-quickchart\" onclick=\"quickchart('df-254bad9b-2b65-4bf8-8288-e5384705c299')\"\n",
              "            title=\"Suggest charts\"\n",
              "            style=\"display:none;\">\n",
              "\n",
              "<svg xmlns=\"http://www.w3.org/2000/svg\" height=\"24px\"viewBox=\"0 0 24 24\"\n",
              "     width=\"24px\">\n",
              "    <g>\n",
              "        <path d=\"M19 3H5c-1.1 0-2 .9-2 2v14c0 1.1.9 2 2 2h14c1.1 0 2-.9 2-2V5c0-1.1-.9-2-2-2zM9 17H7v-7h2v7zm4 0h-2V7h2v10zm4 0h-2v-4h2v4z\"/>\n",
              "    </g>\n",
              "</svg>\n",
              "  </button>\n",
              "\n",
              "<style>\n",
              "  .colab-df-quickchart {\n",
              "      --bg-color: #E8F0FE;\n",
              "      --fill-color: #1967D2;\n",
              "      --hover-bg-color: #E2EBFA;\n",
              "      --hover-fill-color: #174EA6;\n",
              "      --disabled-fill-color: #AAA;\n",
              "      --disabled-bg-color: #DDD;\n",
              "  }\n",
              "\n",
              "  [theme=dark] .colab-df-quickchart {\n",
              "      --bg-color: #3B4455;\n",
              "      --fill-color: #D2E3FC;\n",
              "      --hover-bg-color: #434B5C;\n",
              "      --hover-fill-color: #FFFFFF;\n",
              "      --disabled-bg-color: #3B4455;\n",
              "      --disabled-fill-color: #666;\n",
              "  }\n",
              "\n",
              "  .colab-df-quickchart {\n",
              "    background-color: var(--bg-color);\n",
              "    border: none;\n",
              "    border-radius: 50%;\n",
              "    cursor: pointer;\n",
              "    display: none;\n",
              "    fill: var(--fill-color);\n",
              "    height: 32px;\n",
              "    padding: 0;\n",
              "    width: 32px;\n",
              "  }\n",
              "\n",
              "  .colab-df-quickchart:hover {\n",
              "    background-color: var(--hover-bg-color);\n",
              "    box-shadow: 0 1px 2px rgba(60, 64, 67, 0.3), 0 1px 3px 1px rgba(60, 64, 67, 0.15);\n",
              "    fill: var(--button-hover-fill-color);\n",
              "  }\n",
              "\n",
              "  .colab-df-quickchart-complete:disabled,\n",
              "  .colab-df-quickchart-complete:disabled:hover {\n",
              "    background-color: var(--disabled-bg-color);\n",
              "    fill: var(--disabled-fill-color);\n",
              "    box-shadow: none;\n",
              "  }\n",
              "\n",
              "  .colab-df-spinner {\n",
              "    border: 2px solid var(--fill-color);\n",
              "    border-color: transparent;\n",
              "    border-bottom-color: var(--fill-color);\n",
              "    animation:\n",
              "      spin 1s steps(1) infinite;\n",
              "  }\n",
              "\n",
              "  @keyframes spin {\n",
              "    0% {\n",
              "      border-color: transparent;\n",
              "      border-bottom-color: var(--fill-color);\n",
              "      border-left-color: var(--fill-color);\n",
              "    }\n",
              "    20% {\n",
              "      border-color: transparent;\n",
              "      border-left-color: var(--fill-color);\n",
              "      border-top-color: var(--fill-color);\n",
              "    }\n",
              "    30% {\n",
              "      border-color: transparent;\n",
              "      border-left-color: var(--fill-color);\n",
              "      border-top-color: var(--fill-color);\n",
              "      border-right-color: var(--fill-color);\n",
              "    }\n",
              "    40% {\n",
              "      border-color: transparent;\n",
              "      border-right-color: var(--fill-color);\n",
              "      border-top-color: var(--fill-color);\n",
              "    }\n",
              "    60% {\n",
              "      border-color: transparent;\n",
              "      border-right-color: var(--fill-color);\n",
              "    }\n",
              "    80% {\n",
              "      border-color: transparent;\n",
              "      border-right-color: var(--fill-color);\n",
              "      border-bottom-color: var(--fill-color);\n",
              "    }\n",
              "    90% {\n",
              "      border-color: transparent;\n",
              "      border-bottom-color: var(--fill-color);\n",
              "    }\n",
              "  }\n",
              "</style>\n",
              "\n",
              "  <script>\n",
              "    async function quickchart(key) {\n",
              "      const quickchartButtonEl =\n",
              "        document.querySelector('#' + key + ' button');\n",
              "      quickchartButtonEl.disabled = true;  // To prevent multiple clicks.\n",
              "      quickchartButtonEl.classList.add('colab-df-spinner');\n",
              "      try {\n",
              "        const charts = await google.colab.kernel.invokeFunction(\n",
              "            'suggestCharts', [key], {});\n",
              "      } catch (error) {\n",
              "        console.error('Error during call to suggestCharts:', error);\n",
              "      }\n",
              "      quickchartButtonEl.classList.remove('colab-df-spinner');\n",
              "      quickchartButtonEl.classList.add('colab-df-quickchart-complete');\n",
              "    }\n",
              "    (() => {\n",
              "      let quickchartButtonEl =\n",
              "        document.querySelector('#df-254bad9b-2b65-4bf8-8288-e5384705c299 button');\n",
              "      quickchartButtonEl.style.display =\n",
              "        google.colab.kernel.accessAllowed ? 'block' : 'none';\n",
              "    })();\n",
              "  </script>\n",
              "</div>\n",
              "    </div>\n",
              "  </div>\n"
            ],
            "text/plain": [
              "                                          count unique  \\\n",
              "Timestamp                                  1202     90   \n",
              "Age                                        1202      5   \n",
              "Feeling_sad_or_Tearful                     1202      3   \n",
              "Irritable_towards_baby_&_partner           1197      3   \n",
              "Trouble_sleeping_at_night                  1202      3   \n",
              "Problems_concentrating_or_making_decision  1191      3   \n",
              "Overeating_or_loss_of_appetite             1202      3   \n",
              "Feeling_of_guilt                           1194      3   \n",
              "Problems_of_bonding_with_baby              1202      3   \n",
              "Suicide_attempt                            1202      3   \n",
              "Feeling_anxious                            1202      2   \n",
              "\n",
              "                                                               top freq  \n",
              "Timestamp                                          6/15/2022 22:24   44  \n",
              "Age                                                          40-45  295  \n",
              "Feeling_sad_or_Tearful                                          No  421  \n",
              "Irritable_towards_baby_&_partner                               Yes  437  \n",
              "Trouble_sleeping_at_night                  Two or more days a week  512  \n",
              "Problems_concentrating_or_making_decision                       No  473  \n",
              "Overeating_or_loss_of_appetite                                  No  677  \n",
              "Feeling_of_guilt                                                No  492  \n",
              "Problems_of_bonding_with_baby                                   No  452  \n",
              "Suicide_attempt                                                 No  563  \n",
              "Feeling_anxious                                                Yes  784  "
            ]
          },
          "execution_count": 668,
          "metadata": {},
          "output_type": "execute_result"
        }
      ],
      "source": [
        "df_eda.describe().T"
      ]
    },
    {
      "cell_type": "code",
      "execution_count": null,
      "metadata": {
        "colab": {
          "base_uri": "https://localhost:8080/"
        },
        "id": "lya27Rj0-JC_",
        "outputId": "8d376e48-d397-4c28-f32e-c6fcf73fadc1"
      },
      "outputs": [
        {
          "data": {
            "text/plain": [
              "Timestamp                                     0\n",
              "Age                                           0\n",
              "Feeling_sad_or_Tearful                        0\n",
              "Irritable_towards_baby_&_partner              5\n",
              "Trouble_sleeping_at_night                     0\n",
              "Problems_concentrating_or_making_decision    11\n",
              "Overeating_or_loss_of_appetite                0\n",
              "Feeling_of_guilt                              8\n",
              "Problems_of_bonding_with_baby                 0\n",
              "Suicide_attempt                               0\n",
              "Feeling_anxious                               0\n",
              "dtype: int64"
            ]
          },
          "execution_count": 669,
          "metadata": {},
          "output_type": "execute_result"
        }
      ],
      "source": [
        "df_eda.isna().sum()"
      ]
    },
    {
      "cell_type": "code",
      "execution_count": null,
      "metadata": {
        "colab": {
          "base_uri": "https://localhost:8080/",
          "height": 313
        },
        "id": "AgTAD7Q6-Kpv",
        "outputId": "3a76b91c-8cbd-49d3-f606-3d379d15c9a2"
      },
      "outputs": [
        {
          "data": {
            "text/html": [
              "\n",
              "  <div id=\"df-f669c74e-2374-400f-adbb-e430af0e05f1\" class=\"colab-df-container\">\n",
              "    <div>\n",
              "<style scoped>\n",
              "    .dataframe tbody tr th:only-of-type {\n",
              "        vertical-align: middle;\n",
              "    }\n",
              "\n",
              "    .dataframe tbody tr th {\n",
              "        vertical-align: top;\n",
              "    }\n",
              "\n",
              "    .dataframe thead th {\n",
              "        text-align: right;\n",
              "    }\n",
              "</style>\n",
              "<table border=\"1\" class=\"dataframe\">\n",
              "  <thead>\n",
              "    <tr style=\"text-align: right;\">\n",
              "      <th></th>\n",
              "      <th>Timestamp</th>\n",
              "      <th>Age</th>\n",
              "      <th>Feeling_sad_or_Tearful</th>\n",
              "      <th>Irritable_towards_baby_&amp;_partner</th>\n",
              "      <th>Trouble_sleeping_at_night</th>\n",
              "      <th>Problems_concentrating_or_making_decision</th>\n",
              "      <th>Overeating_or_loss_of_appetite</th>\n",
              "      <th>Feeling_of_guilt</th>\n",
              "      <th>Problems_of_bonding_with_baby</th>\n",
              "      <th>Suicide_attempt</th>\n",
              "      <th>Feeling_anxious</th>\n",
              "    </tr>\n",
              "  </thead>\n",
              "  <tbody>\n",
              "    <tr>\n",
              "      <th>726</th>\n",
              "      <td>6/14/2022 20:03</td>\n",
              "      <td>40-45</td>\n",
              "      <td>Yes</td>\n",
              "      <td>No</td>\n",
              "      <td>No</td>\n",
              "      <td>Yes</td>\n",
              "      <td>Yes</td>\n",
              "      <td>Yes</td>\n",
              "      <td>Yes</td>\n",
              "      <td>No</td>\n",
              "      <td>No</td>\n",
              "    </tr>\n",
              "    <tr>\n",
              "      <th>1195</th>\n",
              "      <td>6/14/2022 23:26</td>\n",
              "      <td>30-35</td>\n",
              "      <td>Yes</td>\n",
              "      <td>Yes</td>\n",
              "      <td>No</td>\n",
              "      <td>Often</td>\n",
              "      <td>Not at all</td>\n",
              "      <td>Maybe</td>\n",
              "      <td>Sometimes</td>\n",
              "      <td>No</td>\n",
              "      <td>Yes</td>\n",
              "    </tr>\n",
              "    <tr>\n",
              "      <th>724</th>\n",
              "      <td>6/15/2022 22:24</td>\n",
              "      <td>40-45</td>\n",
              "      <td>Yes</td>\n",
              "      <td>NaN</td>\n",
              "      <td>No</td>\n",
              "      <td>NaN</td>\n",
              "      <td>No</td>\n",
              "      <td>NaN</td>\n",
              "      <td>Sometimes</td>\n",
              "      <td>No</td>\n",
              "      <td>Yes</td>\n",
              "    </tr>\n",
              "    <tr>\n",
              "      <th>806</th>\n",
              "      <td>6/14/2022 23:43</td>\n",
              "      <td>40-45</td>\n",
              "      <td>No</td>\n",
              "      <td>Sometimes</td>\n",
              "      <td>Yes</td>\n",
              "      <td>Often</td>\n",
              "      <td>No</td>\n",
              "      <td>No</td>\n",
              "      <td>No</td>\n",
              "      <td>No</td>\n",
              "      <td>Yes</td>\n",
              "    </tr>\n",
              "    <tr>\n",
              "      <th>2</th>\n",
              "      <td>6/14/2022 20:04</td>\n",
              "      <td>35-40</td>\n",
              "      <td>Yes</td>\n",
              "      <td>No</td>\n",
              "      <td>Yes</td>\n",
              "      <td>Yes</td>\n",
              "      <td>Yes</td>\n",
              "      <td>No</td>\n",
              "      <td>Sometimes</td>\n",
              "      <td>No</td>\n",
              "      <td>Yes</td>\n",
              "    </tr>\n",
              "  </tbody>\n",
              "</table>\n",
              "</div>\n",
              "    <div class=\"colab-df-buttons\">\n",
              "\n",
              "  <div class=\"colab-df-container\">\n",
              "    <button class=\"colab-df-convert\" onclick=\"convertToInteractive('df-f669c74e-2374-400f-adbb-e430af0e05f1')\"\n",
              "            title=\"Convert this dataframe to an interactive table.\"\n",
              "            style=\"display:none;\">\n",
              "\n",
              "  <svg xmlns=\"http://www.w3.org/2000/svg\" height=\"24px\" viewBox=\"0 -960 960 960\">\n",
              "    <path d=\"M120-120v-720h720v720H120Zm60-500h600v-160H180v160Zm220 220h160v-160H400v160Zm0 220h160v-160H400v160ZM180-400h160v-160H180v160Zm440 0h160v-160H620v160ZM180-180h160v-160H180v160Zm440 0h160v-160H620v160Z\"/>\n",
              "  </svg>\n",
              "    </button>\n",
              "\n",
              "  <style>\n",
              "    .colab-df-container {\n",
              "      display:flex;\n",
              "      gap: 12px;\n",
              "    }\n",
              "\n",
              "    .colab-df-convert {\n",
              "      background-color: #E8F0FE;\n",
              "      border: none;\n",
              "      border-radius: 50%;\n",
              "      cursor: pointer;\n",
              "      display: none;\n",
              "      fill: #1967D2;\n",
              "      height: 32px;\n",
              "      padding: 0 0 0 0;\n",
              "      width: 32px;\n",
              "    }\n",
              "\n",
              "    .colab-df-convert:hover {\n",
              "      background-color: #E2EBFA;\n",
              "      box-shadow: 0px 1px 2px rgba(60, 64, 67, 0.3), 0px 1px 3px 1px rgba(60, 64, 67, 0.15);\n",
              "      fill: #174EA6;\n",
              "    }\n",
              "\n",
              "    .colab-df-buttons div {\n",
              "      margin-bottom: 4px;\n",
              "    }\n",
              "\n",
              "    [theme=dark] .colab-df-convert {\n",
              "      background-color: #3B4455;\n",
              "      fill: #D2E3FC;\n",
              "    }\n",
              "\n",
              "    [theme=dark] .colab-df-convert:hover {\n",
              "      background-color: #434B5C;\n",
              "      box-shadow: 0px 1px 3px 1px rgba(0, 0, 0, 0.15);\n",
              "      filter: drop-shadow(0px 1px 2px rgba(0, 0, 0, 0.3));\n",
              "      fill: #FFFFFF;\n",
              "    }\n",
              "  </style>\n",
              "\n",
              "    <script>\n",
              "      const buttonEl =\n",
              "        document.querySelector('#df-f669c74e-2374-400f-adbb-e430af0e05f1 button.colab-df-convert');\n",
              "      buttonEl.style.display =\n",
              "        google.colab.kernel.accessAllowed ? 'block' : 'none';\n",
              "\n",
              "      async function convertToInteractive(key) {\n",
              "        const element = document.querySelector('#df-f669c74e-2374-400f-adbb-e430af0e05f1');\n",
              "        const dataTable =\n",
              "          await google.colab.kernel.invokeFunction('convertToInteractive',\n",
              "                                                    [key], {});\n",
              "        if (!dataTable) return;\n",
              "\n",
              "        const docLinkHtml = 'Like what you see? Visit the ' +\n",
              "          '<a target=\"_blank\" href=https://colab.research.google.com/notebooks/data_table.ipynb>data table notebook</a>'\n",
              "          + ' to learn more about interactive tables.';\n",
              "        element.innerHTML = '';\n",
              "        dataTable['output_type'] = 'display_data';\n",
              "        await google.colab.output.renderOutput(dataTable, element);\n",
              "        const docLink = document.createElement('div');\n",
              "        docLink.innerHTML = docLinkHtml;\n",
              "        element.appendChild(docLink);\n",
              "      }\n",
              "    </script>\n",
              "  </div>\n",
              "\n",
              "\n",
              "<div id=\"df-333c16df-4d11-4df3-837d-96a2a349827c\">\n",
              "  <button class=\"colab-df-quickchart\" onclick=\"quickchart('df-333c16df-4d11-4df3-837d-96a2a349827c')\"\n",
              "            title=\"Suggest charts\"\n",
              "            style=\"display:none;\">\n",
              "\n",
              "<svg xmlns=\"http://www.w3.org/2000/svg\" height=\"24px\"viewBox=\"0 0 24 24\"\n",
              "     width=\"24px\">\n",
              "    <g>\n",
              "        <path d=\"M19 3H5c-1.1 0-2 .9-2 2v14c0 1.1.9 2 2 2h14c1.1 0 2-.9 2-2V5c0-1.1-.9-2-2-2zM9 17H7v-7h2v7zm4 0h-2V7h2v10zm4 0h-2v-4h2v4z\"/>\n",
              "    </g>\n",
              "</svg>\n",
              "  </button>\n",
              "\n",
              "<style>\n",
              "  .colab-df-quickchart {\n",
              "      --bg-color: #E8F0FE;\n",
              "      --fill-color: #1967D2;\n",
              "      --hover-bg-color: #E2EBFA;\n",
              "      --hover-fill-color: #174EA6;\n",
              "      --disabled-fill-color: #AAA;\n",
              "      --disabled-bg-color: #DDD;\n",
              "  }\n",
              "\n",
              "  [theme=dark] .colab-df-quickchart {\n",
              "      --bg-color: #3B4455;\n",
              "      --fill-color: #D2E3FC;\n",
              "      --hover-bg-color: #434B5C;\n",
              "      --hover-fill-color: #FFFFFF;\n",
              "      --disabled-bg-color: #3B4455;\n",
              "      --disabled-fill-color: #666;\n",
              "  }\n",
              "\n",
              "  .colab-df-quickchart {\n",
              "    background-color: var(--bg-color);\n",
              "    border: none;\n",
              "    border-radius: 50%;\n",
              "    cursor: pointer;\n",
              "    display: none;\n",
              "    fill: var(--fill-color);\n",
              "    height: 32px;\n",
              "    padding: 0;\n",
              "    width: 32px;\n",
              "  }\n",
              "\n",
              "  .colab-df-quickchart:hover {\n",
              "    background-color: var(--hover-bg-color);\n",
              "    box-shadow: 0 1px 2px rgba(60, 64, 67, 0.3), 0 1px 3px 1px rgba(60, 64, 67, 0.15);\n",
              "    fill: var(--button-hover-fill-color);\n",
              "  }\n",
              "\n",
              "  .colab-df-quickchart-complete:disabled,\n",
              "  .colab-df-quickchart-complete:disabled:hover {\n",
              "    background-color: var(--disabled-bg-color);\n",
              "    fill: var(--disabled-fill-color);\n",
              "    box-shadow: none;\n",
              "  }\n",
              "\n",
              "  .colab-df-spinner {\n",
              "    border: 2px solid var(--fill-color);\n",
              "    border-color: transparent;\n",
              "    border-bottom-color: var(--fill-color);\n",
              "    animation:\n",
              "      spin 1s steps(1) infinite;\n",
              "  }\n",
              "\n",
              "  @keyframes spin {\n",
              "    0% {\n",
              "      border-color: transparent;\n",
              "      border-bottom-color: var(--fill-color);\n",
              "      border-left-color: var(--fill-color);\n",
              "    }\n",
              "    20% {\n",
              "      border-color: transparent;\n",
              "      border-left-color: var(--fill-color);\n",
              "      border-top-color: var(--fill-color);\n",
              "    }\n",
              "    30% {\n",
              "      border-color: transparent;\n",
              "      border-left-color: var(--fill-color);\n",
              "      border-top-color: var(--fill-color);\n",
              "      border-right-color: var(--fill-color);\n",
              "    }\n",
              "    40% {\n",
              "      border-color: transparent;\n",
              "      border-right-color: var(--fill-color);\n",
              "      border-top-color: var(--fill-color);\n",
              "    }\n",
              "    60% {\n",
              "      border-color: transparent;\n",
              "      border-right-color: var(--fill-color);\n",
              "    }\n",
              "    80% {\n",
              "      border-color: transparent;\n",
              "      border-right-color: var(--fill-color);\n",
              "      border-bottom-color: var(--fill-color);\n",
              "    }\n",
              "    90% {\n",
              "      border-color: transparent;\n",
              "      border-bottom-color: var(--fill-color);\n",
              "    }\n",
              "  }\n",
              "</style>\n",
              "\n",
              "  <script>\n",
              "    async function quickchart(key) {\n",
              "      const quickchartButtonEl =\n",
              "        document.querySelector('#' + key + ' button');\n",
              "      quickchartButtonEl.disabled = true;  // To prevent multiple clicks.\n",
              "      quickchartButtonEl.classList.add('colab-df-spinner');\n",
              "      try {\n",
              "        const charts = await google.colab.kernel.invokeFunction(\n",
              "            'suggestCharts', [key], {});\n",
              "      } catch (error) {\n",
              "        console.error('Error during call to suggestCharts:', error);\n",
              "      }\n",
              "      quickchartButtonEl.classList.remove('colab-df-spinner');\n",
              "      quickchartButtonEl.classList.add('colab-df-quickchart-complete');\n",
              "    }\n",
              "    (() => {\n",
              "      let quickchartButtonEl =\n",
              "        document.querySelector('#df-333c16df-4d11-4df3-837d-96a2a349827c button');\n",
              "      quickchartButtonEl.style.display =\n",
              "        google.colab.kernel.accessAllowed ? 'block' : 'none';\n",
              "    })();\n",
              "  </script>\n",
              "</div>\n",
              "    </div>\n",
              "  </div>\n"
            ],
            "text/plain": [
              "            Timestamp    Age Feeling_sad_or_Tearful  \\\n",
              "726   6/14/2022 20:03  40-45                    Yes   \n",
              "1195  6/14/2022 23:26  30-35                    Yes   \n",
              "724   6/15/2022 22:24  40-45                    Yes   \n",
              "806   6/14/2022 23:43  40-45                     No   \n",
              "2     6/14/2022 20:04  35-40                    Yes   \n",
              "\n",
              "     Irritable_towards_baby_&_partner Trouble_sleeping_at_night  \\\n",
              "726                                No                        No   \n",
              "1195                              Yes                        No   \n",
              "724                               NaN                        No   \n",
              "806                         Sometimes                       Yes   \n",
              "2                                  No                       Yes   \n",
              "\n",
              "     Problems_concentrating_or_making_decision Overeating_or_loss_of_appetite  \\\n",
              "726                                        Yes                            Yes   \n",
              "1195                                     Often                     Not at all   \n",
              "724                                        NaN                             No   \n",
              "806                                      Often                             No   \n",
              "2                                          Yes                            Yes   \n",
              "\n",
              "     Feeling_of_guilt Problems_of_bonding_with_baby Suicide_attempt  \\\n",
              "726               Yes                           Yes              No   \n",
              "1195            Maybe                     Sometimes              No   \n",
              "724               NaN                     Sometimes              No   \n",
              "806                No                            No              No   \n",
              "2                  No                     Sometimes              No   \n",
              "\n",
              "     Feeling_anxious  \n",
              "726               No  \n",
              "1195             Yes  \n",
              "724              Yes  \n",
              "806              Yes  \n",
              "2                Yes  "
            ]
          },
          "execution_count": 670,
          "metadata": {},
          "output_type": "execute_result"
        }
      ],
      "source": [
        "df_eda.head()"
      ]
    },
    {
      "cell_type": "code",
      "execution_count": null,
      "metadata": {
        "colab": {
          "base_uri": "https://localhost:8080/"
        },
        "id": "qS2_Yt8H-NOH",
        "outputId": "30d1b37d-0e19-4dd2-c469-67569dbd1366"
      },
      "outputs": [
        {
          "data": {
            "text/plain": [
              "{'Age': array(['40-45', '30-35', '35-40', '45-50', '25-30'], dtype=object),\n",
              " 'Feeling_sad_or_Tearful': array(['Yes', 'No', 'Sometimes'], dtype=object),\n",
              " 'Irritable_towards_baby_&_partner': array(['No', 'Yes', nan, 'Sometimes'], dtype=object),\n",
              " 'Trouble_sleeping_at_night': array(['No', 'Yes', 'Two or more days a week'], dtype=object),\n",
              " 'Problems_concentrating_or_making_decision': array(['Yes', 'Often', nan, 'No'], dtype=object),\n",
              " 'Overeating_or_loss_of_appetite': array(['Yes', 'Not at all', 'No'], dtype=object),\n",
              " 'Feeling_of_guilt': array(['Yes', 'Maybe', nan, 'No'], dtype=object),\n",
              " 'Problems_of_bonding_with_baby': array(['Yes', 'Sometimes', 'No'], dtype=object),\n",
              " 'Suicide_attempt': array(['No', 'Not interested to say', 'Yes'], dtype=object),\n",
              " 'Feeling_anxious': array(['No', 'Yes'], dtype=object)}"
            ]
          },
          "execution_count": 671,
          "metadata": {},
          "output_type": "execute_result"
        }
      ],
      "source": [
        "{\n",
        "    col: df_eda[col].unique()\n",
        "    for col in df_eda.columns\n",
        "    if col != \"Timestamp\"\n",
        "}"
      ]
    },
    {
      "cell_type": "markdown",
      "metadata": {
        "id": "lPTJP2yyDBBl"
      },
      "source": [
        "# **Gráficos que notoriam os principais problemas que as mulheres enfrentam quando passam pela depressão pós parto**"
      ]
    },
    {
      "cell_type": "markdown",
      "metadata": {
        "id": "h9eJS-7_EnSc"
      },
      "source": [
        "Contagem de Tentativas de Suicídio"
      ]
    },
    {
      "cell_type": "code",
      "execution_count": null,
      "metadata": {
        "colab": {
          "base_uri": "https://localhost:8080/",
          "height": 565
        },
        "id": "pBEKcA8CEb6W",
        "outputId": "56e686f8-a4cf-4b79-86d4-0cf398c5338d"
      },
      "outputs": [
        {
          "data": {
            "image/png": "[encoded data removed]",
            "text/plain": [
              "<Figure size 800x600 with 1 Axes>"
            ]
          },
          "metadata": {},
          "output_type": "display_data"
        }
      ],
      "source": [
        "plt.figure(figsize=(8, 6))\n",
        "sns.countplot(x='Suicide_attempt', data=df)\n",
        "plt.title('Contagem de Tentativas de Suicídio')\n",
        "plt.xlabel('Suicide Attempt')\n",
        "plt.ylabel('Contagem')\n",
        "plt.show()"
      ]
    },
    {
      "cell_type": "markdown",
      "metadata": {
        "id": "lYLjNVuNFHan"
      },
      "source": [
        "Sentimentos de Culpa"
      ]
    },
    {
      "cell_type": "code",
      "execution_count": null,
      "metadata": {
        "id": "39cyADkiFmAk"
      },
      "outputs": [],
      "source": [
        "guilt_mapping = {'No': 0, 'Maybe': 1, 'Yes': 2}\n",
        "df['Feeling_of_guilt_numeric'] = df['Feeling_of_guilt'].map(guilt_mapping)"
      ]
    },
    {
      "cell_type": "code",
      "execution_count": null,
      "metadata": {
        "colab": {
          "base_uri": "https://localhost:8080/",
          "height": 564
        },
        "id": "Yq3JyPG1FDPh",
        "outputId": "504b9ff5-e57c-4c81-90ab-e874fb82d2f8"
      },
      "outputs": [
        {
          "data": {
            "image/png": "[encoded data removed]",
            "text/plain": [
              "<Figure size 800x600 with 1 Axes>"
            ]
          },
          "metadata": {},
          "output_type": "display_data"
        }
      ],
      "source": [
        "plt.figure(figsize=(8, 6))\n",
        "sns.boxplot(x='Feeling_of_guilt_numeric', y='Age', data=df)\n",
        "plt.title('Sentimentos de Culpa por Idade')\n",
        "plt.xlabel('Sentimentos de Culpa')\n",
        "plt.ylabel('Idade')\n",
        "plt.show()\n"
      ]
    },
    {
      "cell_type": "markdown",
      "metadata": {
        "id": "rFLlDXQvFQ-H"
      },
      "source": [
        "Gráfico de Dispersão entre Idade e Sentimentos de Ansiedade"
      ]
    },
    {
      "cell_type": "code",
      "execution_count": null,
      "metadata": {
        "colab": {
          "base_uri": "https://localhost:8080/",
          "height": 564
        },
        "id": "vRZ1xrr7FLgi",
        "outputId": "14abc8a5-d3bb-4c88-bbef-6ed92f60c5b3"
      },
      "outputs": [
        {
          "data": {
            "image/png": "[encoded data removed]",
            "text/plain": [
              "<Figure size 800x600 with 1 Axes>"
            ]
          },
          "metadata": {},
          "output_type": "display_data"
        }
      ],
      "source": [
        "plt.figure(figsize=(8, 6))\n",
        "sns.scatterplot(x='Age', y='Feeling_anxious', data=df)\n",
        "plt.title('Dispersão entre Idade e Sentimentos de Ansiedade')\n",
        "plt.xlabel('Idade')\n",
        "plt.ylabel('Sentimentos de Ansiedade')\n",
        "plt.show()"
      ]
    },
    {
      "cell_type": "markdown",
      "metadata": {
        "id": "OeXvMwitFVjZ"
      },
      "source": [
        "Gráfico de Barras Empilhadas para Sentimentos de Tristeza por Faixa Etária"
      ]
    },
    {
      "cell_type": "code",
      "execution_count": null,
      "metadata": {
        "colab": {
          "base_uri": "https://localhost:8080/",
          "height": 719
        },
        "id": "xsWrauouFWT5",
        "outputId": "57b5d374-97d9-48a3-8325-fe2a6967476d"
      },
      "outputs": [
        {
          "data": {
            "image/png": "[encoded data removed]",
            "text/plain": [
              "<Figure size 1000x800 with 1 Axes>"
            ]
          },
          "metadata": {},
          "output_type": "display_data"
        }
      ],
      "source": [
        "plt.figure(figsize=(10, 8))\n",
        "sns.countplot(x='Feeling_sad_or_Tearful', hue='Age', data=df)\n",
        "plt.title('Gráfico de Barras Empilhadas para Sentimentos de Tristeza por Faixa Etária')\n",
        "plt.xlabel('Sentimentos de Tristeza')\n",
        "plt.ylabel('Contagem')\n",
        "plt.legend(title='Faixa Etária')\n",
        "plt.show()"
      ]
    },
    {
      "cell_type": "code",
      "execution_count": null,
      "metadata": {
        "id": "t8Ty9vhDFavt"
      },
      "outputs": [
        {
          "ename": "NameError",
          "evalue": "name 'plt' is not defined",
          "output_type": "error",
          "traceback": [
            "\u001b[1;31m---------------------------------------------------------------------------\u001b[0m",
            "\u001b[1;31mNameError\u001b[0m                                 Traceback (most recent call last)",
            "\u001b[1;32mc:\\Users\\Taty\\Desktop\\Gs AI\\GS.ipynb Cell 41\u001b[0m line \u001b[0;36m1\n\u001b[1;32m----> <a href='vscode-notebook-cell:/c%3A/Users/Taty/Desktop/Gs%20AI/GS.ipynb#X55sZmlsZQ%3D%3D?line=0'>1</a>\u001b[0m plt\u001b[39m.\u001b[39mfigure(figsize\u001b[39m=\u001b[39m(\u001b[39m10\u001b[39m, \u001b[39m6\u001b[39m))\n\u001b[0;32m      <a href='vscode-notebook-cell:/c%3A/Users/Taty/Desktop/Gs%20AI/GS.ipynb#X55sZmlsZQ%3D%3D?line=1'>2</a>\u001b[0m sns\u001b[39m.\u001b[39mscatterplot(x\u001b[39m=\u001b[39m\u001b[39m'\u001b[39m\u001b[39mAge\u001b[39m\u001b[39m'\u001b[39m, y\u001b[39m=\u001b[39m\u001b[39m'\u001b[39m\u001b[39mFeeling_sad_or_Tearful\u001b[39m\u001b[39m'\u001b[39m, data\u001b[39m=\u001b[39mdf, hue\u001b[39m=\u001b[39m\u001b[39m'\u001b[39m\u001b[39mFeeling_anxious\u001b[39m\u001b[39m'\u001b[39m, palette\u001b[39m=\u001b[39m\u001b[39m'\u001b[39m\u001b[39mcoolwarm\u001b[39m\u001b[39m'\u001b[39m, size\u001b[39m=\u001b[39m\u001b[39m'\u001b[39m\u001b[39mSuicide_attempt\u001b[39m\u001b[39m'\u001b[39m, sizes\u001b[39m=\u001b[39m(\u001b[39m20\u001b[39m, \u001b[39m200\u001b[39m))\n\u001b[0;32m      <a href='vscode-notebook-cell:/c%3A/Users/Taty/Desktop/Gs%20AI/GS.ipynb#X55sZmlsZQ%3D%3D?line=2'>3</a>\u001b[0m plt\u001b[39m.\u001b[39mtitle(\u001b[39m'\u001b[39m\u001b[39mDispersão entre Idade, Sentimentos de Tristeza e Ansiedade\u001b[39m\u001b[39m'\u001b[39m)\n",
            "\u001b[1;31mNameError\u001b[0m: name 'plt' is not defined"
          ]
        }
      ],
      "source": [
        "plt.figure(figsize=(10, 6))\n",
        "sns.scatterplot(x='Age', y='Feeling_sad_or_Tearful', data=df, hue='Feeling_anxious', palette='coolwarm', size='Suicide_attempt', sizes=(20, 200))\n",
        "plt.title('Dispersão entre Idade, Sentimentos de Tristeza e Ansiedade')\n",
        "plt.xlabel('Idade')\n",
        "plt.ylabel('Sentimentos de Tristeza ou Choro')\n",
        "plt.legend(title='Feeling Anxious', loc='upper right', labels=['No', 'Yes'])\n",
        "plt.show()"
      ]
    },
    {
      "cell_type": "markdown",
      "metadata": {
        "id": "9HnQeRf4GgHG"
      },
      "source": [
        "# **Modelo de regressão**"
      ]
    },
    {
      "cell_type": "markdown",
      "metadata": {
        "id": "oaZ_xMWKZG1X"
      },
      "source": [
        "## Pré-Processamento de Dados\n",
        "\n",
        "Antes de treinar o modelo, realizamos as seguintes etapas de pré-processamento:\n",
        "\n",
        "- **Mapeamento de Faixa Etária:** Mapeamos as faixas etárias para valores numéricos.\n",
        "- **Codificação One-Hot para Variáveis Categóricas:** Utilizamos a codificação one-hot para lidar com variáveis categóricas.\n",
        "- **Imputação de Dados:** Imputamos valores ausentes, quando necessário, utilizando a média.\n",
        "\n",
        "## Modelo de Regressão Linear\n",
        "\n",
        "O modelo utilizado é uma regressão linear, que visa prever a sensação de ansiedade com base nas variáveis de entrada. A escolha desse modelo foi feita com base na natureza das variáveis e para fornecer uma interpretação inicial.\n",
        "\n",
        "## Avaliação do Modelo\n",
        "\n",
        "O modelo foi avaliado usando duas métricas principais:\n",
        "\n",
        "- **R2 Score:** Uma medida da variabilidade explicada pelo modelo.\n",
        "- **Mean Squared Error (MSE):** Uma medida da média dos quadrados dos erros entre os valores reais e os valores preditos.\n",
        "\n",
        "## Resultados\n",
        "\n",
        "Os resultados do modelo são os seguintes:\n",
        "\n",
        "- **R2 Score: 0.3987**\n",
        "- **Mean Squared Error: 0.1299**\n",
        "\n",
        "## Conclusão\n",
        "\n",
        "O modelo fornece uma compreensão inicial da relação entre as variáveis selecionadas e a sensação de ansiedade durante a depressão pós-parto. É importante lembrar que a interpretação desses resultados deve ser feita com cautela e em conjunto com especialistas em saúde mental."
      ]
    },
    {
      "cell_type": "code",
      "execution_count": null,
      "metadata": {
        "id": "DWyOpXXCGTsa"
      },
      "outputs": [],
      "source": [
        "df = pd.read_csv('postnataldata.csv')"
      ]
    },
    {
      "cell_type": "code",
      "execution_count": null,
      "metadata": {
        "id": "vjBk__eeT4US"
      },
      "outputs": [],
      "source": [
        "X_reg = df.drop(columns=['Age', 'Timestamp', 'Feeling anxious']).copy()\n",
        "y_reg = df['Feeling anxious'].map({'Yes': 1, 'No': 0}).copy()"
      ]
    },
    {
      "cell_type": "code",
      "execution_count": null,
      "metadata": {
        "id": "vOwQ4c8rVdKn"
      },
      "outputs": [],
      "source": [
        "categorical_cols = X_reg.select_dtypes(include=['object']).columns\n",
        "numeric_cols = X_reg.select_dtypes(exclude=['object']).columns"
      ]
    },
    {
      "cell_type": "code",
      "execution_count": null,
      "metadata": {
        "id": "2AsfLc14VffA"
      },
      "outputs": [],
      "source": [
        "encoder = OneHotEncoder(sparse_output=False, drop='first')\n",
        "X_reg_encoded = pd.concat([X_reg[numeric_cols],\n",
        "                           pd.DataFrame(encoder.fit_transform(X_reg[categorical_cols])),\n",
        "                          ], axis=1)"
      ]
    },
    {
      "cell_type": "code",
      "execution_count": null,
      "metadata": {
        "id": "2ZUUv-NvViFc"
      },
      "outputs": [],
      "source": [
        "imputer = SimpleImputer(strategy='mean')\n",
        "X_reg_encoded_imputed = pd.DataFrame(imputer.fit_transform(X_reg_encoded), columns=X_reg_encoded.columns)"
      ]
    },
    {
      "cell_type": "code",
      "execution_count": null,
      "metadata": {
        "id": "JCicmmqWWohj"
      },
      "outputs": [],
      "source": [
        "X_reg_train, X_reg_test, y_reg_train, y_reg_test = train_test_split(X_reg_encoded_imputed, y_reg, test_size=0.2, random_state=SEED)"
      ]
    },
    {
      "cell_type": "code",
      "execution_count": null,
      "metadata": {
        "colab": {
          "base_uri": "https://localhost:8080/",
          "height": 74
        },
        "id": "hleMtfOUWq-a",
        "outputId": "b34ed72f-c5ea-4941-a2fd-0d48fde59d00"
      },
      "outputs": [
        {
          "data": {
            "text/html": [
              "<style>#sk-container-id-13 {color: black;background-color: white;}#sk-container-id-13 pre{padding: 0;}#sk-container-id-13 div.sk-toggleable {background-color: white;}#sk-container-id-13 label.sk-toggleable__label {cursor: pointer;display: block;width: 100%;margin-bottom: 0;padding: 0.3em;box-sizing: border-box;text-align: center;}#sk-container-id-13 label.sk-toggleable__label-arrow:before {content: \"▸\";float: left;margin-right: 0.25em;color: #696969;}#sk-container-id-13 label.sk-toggleable__label-arrow:hover:before {color: black;}#sk-container-id-13 div.sk-estimator:hover label.sk-toggleable__label-arrow:before {color: black;}#sk-container-id-13 div.sk-toggleable__content {max-height: 0;max-width: 0;overflow: hidden;text-align: left;background-color: #f0f8ff;}#sk-container-id-13 div.sk-toggleable__content pre {margin: 0.2em;color: black;border-radius: 0.25em;background-color: #f0f8ff;}#sk-container-id-13 input.sk-toggleable__control:checked~div.sk-toggleable__content {max-height: 200px;max-width: 100%;overflow: auto;}#sk-container-id-13 input.sk-toggleable__control:checked~label.sk-toggleable__label-arrow:before {content: \"▾\";}#sk-container-id-13 div.sk-estimator input.sk-toggleable__control:checked~label.sk-toggleable__label {background-color: #d4ebff;}#sk-container-id-13 div.sk-label input.sk-toggleable__control:checked~label.sk-toggleable__label {background-color: #d4ebff;}#sk-container-id-13 input.sk-hidden--visually {border: 0;clip: rect(1px 1px 1px 1px);clip: rect(1px, 1px, 1px, 1px);height: 1px;margin: -1px;overflow: hidden;padding: 0;position: absolute;width: 1px;}#sk-container-id-13 div.sk-estimator {font-family: monospace;background-color: #f0f8ff;border: 1px dotted black;border-radius: 0.25em;box-sizing: border-box;margin-bottom: 0.5em;}#sk-container-id-13 div.sk-estimator:hover {background-color: #d4ebff;}#sk-container-id-13 div.sk-parallel-item::after {content: \"\";width: 100%;border-bottom: 1px solid gray;flex-grow: 1;}#sk-container-id-13 div.sk-label:hover label.sk-toggleable__label {background-color: #d4ebff;}#sk-container-id-13 div.sk-serial::before {content: \"\";position: absolute;border-left: 1px solid gray;box-sizing: border-box;top: 0;bottom: 0;left: 50%;z-index: 0;}#sk-container-id-13 div.sk-serial {display: flex;flex-direction: column;align-items: center;background-color: white;padding-right: 0.2em;padding-left: 0.2em;position: relative;}#sk-container-id-13 div.sk-item {position: relative;z-index: 1;}#sk-container-id-13 div.sk-parallel {display: flex;align-items: stretch;justify-content: center;background-color: white;position: relative;}#sk-container-id-13 div.sk-item::before, #sk-container-id-13 div.sk-parallel-item::before {content: \"\";position: absolute;border-left: 1px solid gray;box-sizing: border-box;top: 0;bottom: 0;left: 50%;z-index: -1;}#sk-container-id-13 div.sk-parallel-item {display: flex;flex-direction: column;z-index: 1;position: relative;background-color: white;}#sk-container-id-13 div.sk-parallel-item:first-child::after {align-self: flex-end;width: 50%;}#sk-container-id-13 div.sk-parallel-item:last-child::after {align-self: flex-start;width: 50%;}#sk-container-id-13 div.sk-parallel-item:only-child::after {width: 0;}#sk-container-id-13 div.sk-dashed-wrapped {border: 1px dashed gray;margin: 0 0.4em 0.5em 0.4em;box-sizing: border-box;padding-bottom: 0.4em;background-color: white;}#sk-container-id-13 div.sk-label label {font-family: monospace;font-weight: bold;display: inline-block;line-height: 1.2em;}#sk-container-id-13 div.sk-label-container {text-align: center;}#sk-container-id-13 div.sk-container {/* jupyter's `normalize.less` sets `[hidden] { display: none; }` but bootstrap.min.css set `[hidden] { display: none !important; }` so we also need the `!important` here to be able to override the default hidden behavior on the sphinx rendered scikit-learn.org. See: https://github.com/scikit-learn/scikit-learn/issues/21755 */display: inline-block !important;position: relative;}#sk-container-id-13 div.sk-text-repr-fallback {display: none;}</style><div id=\"sk-container-id-13\" class=\"sk-top-container\"><div class=\"sk-text-repr-fallback\"><pre>LinearRegression()</pre><b>In a Jupyter environment, please rerun this cell to show the HTML representation or trust the notebook. <br />On GitHub, the HTML representation is unable to render, please try loading this page with nbviewer.org.</b></div><div class=\"sk-container\" hidden><div class=\"sk-item\"><div class=\"sk-estimator sk-toggleable\"><input class=\"sk-toggleable__control sk-hidden--visually\" id=\"sk-estimator-id-37\" type=\"checkbox\" checked><label for=\"sk-estimator-id-37\" class=\"sk-toggleable__label sk-toggleable__label-arrow\">LinearRegression</label><div class=\"sk-toggleable__content\"><pre>LinearRegression()</pre></div></div></div></div></div>"
            ],
            "text/plain": [
              "LinearRegression()"
            ]
          },
          "execution_count": 684,
          "metadata": {},
          "output_type": "execute_result"
        }
      ],
      "source": [
        "regression_model = LinearRegression()\n",
        "regression_model.fit(X_reg_train, y_reg_train)"
      ]
    },
    {
      "cell_type": "code",
      "execution_count": null,
      "metadata": {
        "id": "OMt1CeihWuqg"
      },
      "outputs": [],
      "source": [
        "y_reg_pred = regression_model.predict(X_reg_test)"
      ]
    },
    {
      "cell_type": "code",
      "execution_count": null,
      "metadata": {
        "id": "Uk-Og4JAWwNi"
      },
      "outputs": [],
      "source": [
        "r2 = r2_score(y_reg_test, y_reg_pred)\n",
        "mse = mean_squared_error(y_reg_test, y_reg_pred)"
      ]
    },
    {
      "cell_type": "code",
      "execution_count": null,
      "metadata": {
        "colab": {
          "base_uri": "https://localhost:8080/"
        },
        "id": "W_CqtIQQWyKC",
        "outputId": "5c9c6c62-7e51-499e-8dd3-b3d5a9171905"
      },
      "outputs": [
        {
          "name": "stdout",
          "output_type": "stream",
          "text": [
            "R2 Score: 0.3987448243982985\n",
            "Mean Squared Error: 0.12987233900867867\n"
          ]
        }
      ],
      "source": [
        "print(f'R2 Score: {r2}')\n",
        "print(f'Mean Squared Error: {mse}')\n"
      ]
    },
    {
      "cell_type": "code",
      "execution_count": null,
      "metadata": {
        "colab": {
          "base_uri": "https://localhost:8080/",
          "height": 472
        },
        "id": "_QwoJu4SW0ts",
        "outputId": "c968bff3-daf3-4a8d-fbfb-803c9949e5f4"
      },
      "outputs": [
        {
          "data": {
            "image/png": "[encoded data removed]",
            "text/plain": [
              "<Figure size 640x480 with 1 Axes>"
            ]
          },
          "metadata": {},
          "output_type": "display_data"
        }
      ],
      "source": [
        "plt.scatter(y_reg_test, y_reg_pred)\n",
        "plt.xlabel('Feeling anxious Real')\n",
        "plt.ylabel('Feeling anxious Previsto')\n",
        "plt.title('Gráfico de Dispersão: Feeling anxious Real vs. Feeling anxious Previsto')\n",
        "plt.show()"
      ]
    },
    {
      "cell_type": "markdown",
      "metadata": {
        "id": "zZpLKUnHBVsR"
      },
      "source": [
        "# **Modelo de Classificação:**"
      ]
    },
    {
      "cell_type": "markdown",
      "metadata": {
        "id": "pfS_JB-qhOvn"
      },
      "source": [
        "Este modelo utiliza uma regressão logística para classificar se uma pessoa está ou não se sentindo ansiosa após o parto. A variável alvo é \"Feeling_anxious\", que pode ter dois valores: \"Yes\" ou \"No\". O objetivo é prever a classe à qual um indivíduo pertence com base em diferentes características.\n",
        "\n",
        "## Pré-processamento dos Dados\n",
        "\n",
        "O conjunto de dados é inicialmente dividido em features numéricas e categóricas. As features numéricas são tratadas com imputação de valores médios e escala padrão, enquanto as categóricas passam por imputação de valores mais frequentes e codificação one-hot. Isso garante que todas as features estejam prontas para alimentar o modelo.\n",
        "\n",
        "## Pipeline do Modelo\n",
        "\n",
        "O modelo é construído usando a Regressão Logística como algoritmo de classificação. Um pipeline é estabelecido com etapas para pré-processamento e o classificador. O pré-processamento lida com a imputação de dados e a codificação de variáveis categóricas.\n",
        "\n",
        "## Treinamento e Avaliação\n",
        "\n",
        "O modelo é treinado usando um conjunto de treinamento e avaliado em um conjunto de teste. A avaliação é realizada utilizando métricas como precisão, recall, F1-score e acurácia, proporcionando uma visão abrangente do desempenho do modelo.\n",
        "\n",
        "## Resultados\n",
        "\n",
        "O relatório de classificação exibe as métricas de desempenho do modelo:\n",
        "\n",
        "- **Precisão (Precision):** 87% para \"Yes\" e 88% para \"No\".\n",
        "- **Revocação (Recall):** 94% para \"Yes\" e 73% para \"No\".\n",
        "- **F1-Score:** 90% para \"Yes\" e 80% para \"No\".\n",
        "- **Acurácia (Accuracy):** 87%.\n",
        "\n",
        "Essas métricas indicam que o modelo tem uma boa capacidade de prever corretamente os casos de ansiedade pós-parto, com uma acurácia geral de 87%. As métricas de precisão e recall fornecem insights adicionais sobre o desempenho em cada classe."
      ]
    },
    {
      "cell_type": "code",
      "execution_count": null,
      "metadata": {
        "id": "VrpLin0fcAOg"
      },
      "outputs": [],
      "source": [
        "categorical_transformer = Pipeline(steps=[\n",
        "    ('imputer', SimpleImputer(strategy='most_frequent')),\n",
        "    ('onehot', OneHotEncoder(handle_unknown='ignore'))\n",
        "])"
      ]
    },
    {
      "cell_type": "code",
      "execution_count": null,
      "metadata": {
        "id": "x6bXv2t0cIrq"
      },
      "outputs": [],
      "source": [
        "preprocessor = ColumnTransformer(\n",
        "    transformers=[\n",
        "        ('num', numeric_transformer, numeric_features),\n",
        "        ('cat', categorical_transformer, categorical_features)\n",
        "    ])"
      ]
    },
    {
      "cell_type": "code",
      "execution_count": null,
      "metadata": {
        "id": "zwSB1kfNcJGB"
      },
      "outputs": [],
      "source": [
        "classifier = Pipeline(steps=[\n",
        "    ('preprocessor', preprocessor),\n",
        "    ('classifier', LogisticRegression(random_state=SEED))\n",
        "])"
      ]
    },
    {
      "cell_type": "code",
      "execution_count": null,
      "metadata": {
        "colab": {
          "base_uri": "https://localhost:8080/",
          "height": 225
        },
        "id": "GnnMufsncK8O",
        "outputId": "c63052ae-4655-42ed-d1a1-d5030534aac9"
      },
      "outputs": [
        {
          "data": {
            "text/html": [
              "<style>#sk-container-id-14 {color: black;background-color: white;}#sk-container-id-14 pre{padding: 0;}#sk-container-id-14 div.sk-toggleable {background-color: white;}#sk-container-id-14 label.sk-toggleable__label {cursor: pointer;display: block;width: 100%;margin-bottom: 0;padding: 0.3em;box-sizing: border-box;text-align: center;}#sk-container-id-14 label.sk-toggleable__label-arrow:before {content: \"▸\";float: left;margin-right: 0.25em;color: #696969;}#sk-container-id-14 label.sk-toggleable__label-arrow:hover:before {color: black;}#sk-container-id-14 div.sk-estimator:hover label.sk-toggleable__label-arrow:before {color: black;}#sk-container-id-14 div.sk-toggleable__content {max-height: 0;max-width: 0;overflow: hidden;text-align: left;background-color: #f0f8ff;}#sk-container-id-14 div.sk-toggleable__content pre {margin: 0.2em;color: black;border-radius: 0.25em;background-color: #f0f8ff;}#sk-container-id-14 input.sk-toggleable__control:checked~div.sk-toggleable__content {max-height: 200px;max-width: 100%;overflow: auto;}#sk-container-id-14 input.sk-toggleable__control:checked~label.sk-toggleable__label-arrow:before {content: \"▾\";}#sk-container-id-14 div.sk-estimator input.sk-toggleable__control:checked~label.sk-toggleable__label {background-color: #d4ebff;}#sk-container-id-14 div.sk-label input.sk-toggleable__control:checked~label.sk-toggleable__label {background-color: #d4ebff;}#sk-container-id-14 input.sk-hidden--visually {border: 0;clip: rect(1px 1px 1px 1px);clip: rect(1px, 1px, 1px, 1px);height: 1px;margin: -1px;overflow: hidden;padding: 0;position: absolute;width: 1px;}#sk-container-id-14 div.sk-estimator {font-family: monospace;background-color: #f0f8ff;border: 1px dotted black;border-radius: 0.25em;box-sizing: border-box;margin-bottom: 0.5em;}#sk-container-id-14 div.sk-estimator:hover {background-color: #d4ebff;}#sk-container-id-14 div.sk-parallel-item::after {content: \"\";width: 100%;border-bottom: 1px solid gray;flex-grow: 1;}#sk-container-id-14 div.sk-label:hover label.sk-toggleable__label {background-color: #d4ebff;}#sk-container-id-14 div.sk-serial::before {content: \"\";position: absolute;border-left: 1px solid gray;box-sizing: border-box;top: 0;bottom: 0;left: 50%;z-index: 0;}#sk-container-id-14 div.sk-serial {display: flex;flex-direction: column;align-items: center;background-color: white;padding-right: 0.2em;padding-left: 0.2em;position: relative;}#sk-container-id-14 div.sk-item {position: relative;z-index: 1;}#sk-container-id-14 div.sk-parallel {display: flex;align-items: stretch;justify-content: center;background-color: white;position: relative;}#sk-container-id-14 div.sk-item::before, #sk-container-id-14 div.sk-parallel-item::before {content: \"\";position: absolute;border-left: 1px solid gray;box-sizing: border-box;top: 0;bottom: 0;left: 50%;z-index: -1;}#sk-container-id-14 div.sk-parallel-item {display: flex;flex-direction: column;z-index: 1;position: relative;background-color: white;}#sk-container-id-14 div.sk-parallel-item:first-child::after {align-self: flex-end;width: 50%;}#sk-container-id-14 div.sk-parallel-item:last-child::after {align-self: flex-start;width: 50%;}#sk-container-id-14 div.sk-parallel-item:only-child::after {width: 0;}#sk-container-id-14 div.sk-dashed-wrapped {border: 1px dashed gray;margin: 0 0.4em 0.5em 0.4em;box-sizing: border-box;padding-bottom: 0.4em;background-color: white;}#sk-container-id-14 div.sk-label label {font-family: monospace;font-weight: bold;display: inline-block;line-height: 1.2em;}#sk-container-id-14 div.sk-label-container {text-align: center;}#sk-container-id-14 div.sk-container {/* jupyter's `normalize.less` sets `[hidden] { display: none; }` but bootstrap.min.css set `[hidden] { display: none !important; }` so we also need the `!important` here to be able to override the default hidden behavior on the sphinx rendered scikit-learn.org. See: https://github.com/scikit-learn/scikit-learn/issues/21755 */display: inline-block !important;position: relative;}#sk-container-id-14 div.sk-text-repr-fallback {display: none;}</style><div id=\"sk-container-id-14\" class=\"sk-top-container\"><div class=\"sk-text-repr-fallback\"><pre>Pipeline(steps=[(&#x27;preprocessor&#x27;,\n",
              "                 ColumnTransformer(transformers=[(&#x27;num&#x27;,\n",
              "                                                  Pipeline(steps=[(&#x27;imputer&#x27;,\n",
              "                                                                   SimpleImputer()),\n",
              "                                                                  (&#x27;scaler&#x27;,\n",
              "                                                                   StandardScaler())]),\n",
              "                                                  Index([], dtype=&#x27;object&#x27;)),\n",
              "                                                 (&#x27;cat&#x27;,\n",
              "                                                  Pipeline(steps=[(&#x27;imputer&#x27;,\n",
              "                                                                   SimpleImputer(strategy=&#x27;most_frequent&#x27;)),\n",
              "                                                                  (&#x27;onehot&#x27;,\n",
              "                                                                   OneHotEncoder(handle_unknown=&#x27;ignore&#x27;))]),\n",
              "                                                  Index([&#x27;Timestamp&#x27;, &#x27;Age&#x27;, &#x27;Feeling_sad_or_Tearful&#x27;,\n",
              "       &#x27;Irritable_towards_baby_&amp;_partner&#x27;, &#x27;Trouble_sleeping_at_night&#x27;,\n",
              "       &#x27;Problems_concentrating_or_making_decision&#x27;,\n",
              "       &#x27;Overeating_or_loss_of_appetite&#x27;, &#x27;Feeling_of_guilt&#x27;,\n",
              "       &#x27;Problems_of_bonding_with_baby&#x27;, &#x27;Suicide_attempt&#x27;],\n",
              "      dtype=&#x27;object&#x27;))])),\n",
              "                (&#x27;classifier&#x27;, LogisticRegression(random_state=42))])</pre><b>In a Jupyter environment, please rerun this cell to show the HTML representation or trust the notebook. <br />On GitHub, the HTML representation is unable to render, please try loading this page with nbviewer.org.</b></div><div class=\"sk-container\" hidden><div class=\"sk-item sk-dashed-wrapped\"><div class=\"sk-label-container\"><div class=\"sk-label sk-toggleable\"><input class=\"sk-toggleable__control sk-hidden--visually\" id=\"sk-estimator-id-38\" type=\"checkbox\" ><label for=\"sk-estimator-id-38\" class=\"sk-toggleable__label sk-toggleable__label-arrow\">Pipeline</label><div class=\"sk-toggleable__content\"><pre>Pipeline(steps=[(&#x27;preprocessor&#x27;,\n",
              "                 ColumnTransformer(transformers=[(&#x27;num&#x27;,\n",
              "                                                  Pipeline(steps=[(&#x27;imputer&#x27;,\n",
              "                                                                   SimpleImputer()),\n",
              "                                                                  (&#x27;scaler&#x27;,\n",
              "                                                                   StandardScaler())]),\n",
              "                                                  Index([], dtype=&#x27;object&#x27;)),\n",
              "                                                 (&#x27;cat&#x27;,\n",
              "                                                  Pipeline(steps=[(&#x27;imputer&#x27;,\n",
              "                                                                   SimpleImputer(strategy=&#x27;most_frequent&#x27;)),\n",
              "                                                                  (&#x27;onehot&#x27;,\n",
              "                                                                   OneHotEncoder(handle_unknown=&#x27;ignore&#x27;))]),\n",
              "                                                  Index([&#x27;Timestamp&#x27;, &#x27;Age&#x27;, &#x27;Feeling_sad_or_Tearful&#x27;,\n",
              "       &#x27;Irritable_towards_baby_&amp;_partner&#x27;, &#x27;Trouble_sleeping_at_night&#x27;,\n",
              "       &#x27;Problems_concentrating_or_making_decision&#x27;,\n",
              "       &#x27;Overeating_or_loss_of_appetite&#x27;, &#x27;Feeling_of_guilt&#x27;,\n",
              "       &#x27;Problems_of_bonding_with_baby&#x27;, &#x27;Suicide_attempt&#x27;],\n",
              "      dtype=&#x27;object&#x27;))])),\n",
              "                (&#x27;classifier&#x27;, LogisticRegression(random_state=42))])</pre></div></div></div><div class=\"sk-serial\"><div class=\"sk-item sk-dashed-wrapped\"><div class=\"sk-label-container\"><div class=\"sk-label sk-toggleable\"><input class=\"sk-toggleable__control sk-hidden--visually\" id=\"sk-estimator-id-39\" type=\"checkbox\" ><label for=\"sk-estimator-id-39\" class=\"sk-toggleable__label sk-toggleable__label-arrow\">preprocessor: ColumnTransformer</label><div class=\"sk-toggleable__content\"><pre>ColumnTransformer(transformers=[(&#x27;num&#x27;,\n",
              "                                 Pipeline(steps=[(&#x27;imputer&#x27;, SimpleImputer()),\n",
              "                                                 (&#x27;scaler&#x27;, StandardScaler())]),\n",
              "                                 Index([], dtype=&#x27;object&#x27;)),\n",
              "                                (&#x27;cat&#x27;,\n",
              "                                 Pipeline(steps=[(&#x27;imputer&#x27;,\n",
              "                                                  SimpleImputer(strategy=&#x27;most_frequent&#x27;)),\n",
              "                                                 (&#x27;onehot&#x27;,\n",
              "                                                  OneHotEncoder(handle_unknown=&#x27;ignore&#x27;))]),\n",
              "                                 Index([&#x27;Timestamp&#x27;, &#x27;Age&#x27;, &#x27;Feeling_sad_or_Tearful&#x27;,\n",
              "       &#x27;Irritable_towards_baby_&amp;_partner&#x27;, &#x27;Trouble_sleeping_at_night&#x27;,\n",
              "       &#x27;Problems_concentrating_or_making_decision&#x27;,\n",
              "       &#x27;Overeating_or_loss_of_appetite&#x27;, &#x27;Feeling_of_guilt&#x27;,\n",
              "       &#x27;Problems_of_bonding_with_baby&#x27;, &#x27;Suicide_attempt&#x27;],\n",
              "      dtype=&#x27;object&#x27;))])</pre></div></div></div><div class=\"sk-parallel\"><div class=\"sk-parallel-item\"><div class=\"sk-item\"><div class=\"sk-label-container\"><div class=\"sk-label sk-toggleable\"><input class=\"sk-toggleable__control sk-hidden--visually\" id=\"sk-estimator-id-40\" type=\"checkbox\" ><label for=\"sk-estimator-id-40\" class=\"sk-toggleable__label sk-toggleable__label-arrow\">num</label><div class=\"sk-toggleable__content\"><pre>Index([], dtype=&#x27;object&#x27;)</pre></div></div></div><div class=\"sk-serial\"><div class=\"sk-item\"><div class=\"sk-serial\"><div class=\"sk-item\"><div class=\"sk-estimator sk-toggleable\"><input class=\"sk-toggleable__control sk-hidden--visually\" id=\"sk-estimator-id-41\" type=\"checkbox\" ><label for=\"sk-estimator-id-41\" class=\"sk-toggleable__label sk-toggleable__label-arrow\">SimpleImputer</label><div class=\"sk-toggleable__content\"><pre>SimpleImputer()</pre></div></div></div><div class=\"sk-item\"><div class=\"sk-estimator sk-toggleable\"><input class=\"sk-toggleable__control sk-hidden--visually\" id=\"sk-estimator-id-42\" type=\"checkbox\" ><label for=\"sk-estimator-id-42\" class=\"sk-toggleable__label sk-toggleable__label-arrow\">StandardScaler</label><div class=\"sk-toggleable__content\"><pre>StandardScaler()</pre></div></div></div></div></div></div></div></div><div class=\"sk-parallel-item\"><div class=\"sk-item\"><div class=\"sk-label-container\"><div class=\"sk-label sk-toggleable\"><input class=\"sk-toggleable__control sk-hidden--visually\" id=\"sk-estimator-id-43\" type=\"checkbox\" ><label for=\"sk-estimator-id-43\" class=\"sk-toggleable__label sk-toggleable__label-arrow\">cat</label><div class=\"sk-toggleable__content\"><pre>Index([&#x27;Timestamp&#x27;, &#x27;Age&#x27;, &#x27;Feeling_sad_or_Tearful&#x27;,\n",
              "       &#x27;Irritable_towards_baby_&amp;_partner&#x27;, &#x27;Trouble_sleeping_at_night&#x27;,\n",
              "       &#x27;Problems_concentrating_or_making_decision&#x27;,\n",
              "       &#x27;Overeating_or_loss_of_appetite&#x27;, &#x27;Feeling_of_guilt&#x27;,\n",
              "       &#x27;Problems_of_bonding_with_baby&#x27;, &#x27;Suicide_attempt&#x27;],\n",
              "      dtype=&#x27;object&#x27;)</pre></div></div></div><div class=\"sk-serial\"><div class=\"sk-item\"><div class=\"sk-serial\"><div class=\"sk-item\"><div class=\"sk-estimator sk-toggleable\"><input class=\"sk-toggleable__control sk-hidden--visually\" id=\"sk-estimator-id-44\" type=\"checkbox\" ><label for=\"sk-estimator-id-44\" class=\"sk-toggleable__label sk-toggleable__label-arrow\">SimpleImputer</label><div class=\"sk-toggleable__content\"><pre>SimpleImputer(strategy=&#x27;most_frequent&#x27;)</pre></div></div></div><div class=\"sk-item\"><div class=\"sk-estimator sk-toggleable\"><input class=\"sk-toggleable__control sk-hidden--visually\" id=\"sk-estimator-id-45\" type=\"checkbox\" ><label for=\"sk-estimator-id-45\" class=\"sk-toggleable__label sk-toggleable__label-arrow\">OneHotEncoder</label><div class=\"sk-toggleable__content\"><pre>OneHotEncoder(handle_unknown=&#x27;ignore&#x27;)</pre></div></div></div></div></div></div></div></div></div></div><div class=\"sk-item\"><div class=\"sk-estimator sk-toggleable\"><input class=\"sk-toggleable__control sk-hidden--visually\" id=\"sk-estimator-id-46\" type=\"checkbox\" ><label for=\"sk-estimator-id-46\" class=\"sk-toggleable__label sk-toggleable__label-arrow\">LogisticRegression</label><div class=\"sk-toggleable__content\"><pre>LogisticRegression(random_state=42)</pre></div></div></div></div></div></div></div>"
            ],
            "text/plain": [
              "Pipeline(steps=[('preprocessor',\n",
              "                 ColumnTransformer(transformers=[('num',\n",
              "                                                  Pipeline(steps=[('imputer',\n",
              "                                                                   SimpleImputer()),\n",
              "                                                                  ('scaler',\n",
              "                                                                   StandardScaler())]),\n",
              "                                                  Index([], dtype='object')),\n",
              "                                                 ('cat',\n",
              "                                                  Pipeline(steps=[('imputer',\n",
              "                                                                   SimpleImputer(strategy='most_frequent')),\n",
              "                                                                  ('onehot',\n",
              "                                                                   OneHotEncoder(handle_unknown='ignore'))]),\n",
              "                                                  Index(['Timestamp', 'Age', 'Feeling_sad_or_Tearful',\n",
              "       'Irritable_towards_baby_&_partner', 'Trouble_sleeping_at_night',\n",
              "       'Problems_concentrating_or_making_decision',\n",
              "       'Overeating_or_loss_of_appetite', 'Feeling_of_guilt',\n",
              "       'Problems_of_bonding_with_baby', 'Suicide_attempt'],\n",
              "      dtype='object'))])),\n",
              "                ('classifier', LogisticRegression(random_state=42))])"
            ]
          },
          "execution_count": 692,
          "metadata": {},
          "output_type": "execute_result"
        }
      ],
      "source": [
        "classifier.fit(X_train, y_train)"
      ]
    },
    {
      "cell_type": "code",
      "execution_count": null,
      "metadata": {
        "id": "H1GhiThbcOG-"
      },
      "outputs": [],
      "source": [
        "# Avaliar o modelo no conjunto de teste\n",
        "y_pred = classifier.predict(X_test)\n"
      ]
    },
    {
      "cell_type": "code",
      "execution_count": null,
      "metadata": {
        "colab": {
          "base_uri": "https://localhost:8080/"
        },
        "id": "TT7nBDtbcPd-",
        "outputId": "2d4b0c73-c2b4-48cd-aaeb-c4d2c8b267bb"
      },
      "outputs": [
        {
          "name": "stdout",
          "output_type": "stream",
          "text": [
            "              precision    recall  f1-score   support\n",
            "\n",
            "          No       0.88      0.73      0.80       105\n",
            "         Yes       0.87      0.94      0.90       196\n",
            "\n",
            "    accuracy                           0.87       301\n",
            "   macro avg       0.87      0.84      0.85       301\n",
            "weighted avg       0.87      0.87      0.87       301\n",
            "\n"
          ]
        }
      ],
      "source": [
        "print(classification_report(y_test, y_pred))"
      ]
    },
    {
      "cell_type": "markdown",
      "metadata": {
        "id": "11EMnydei2Wh"
      },
      "source": [
        "# **servidor Flask**"
      ]
    },
    {
      "cell_type": "code",
      "execution_count": null,
      "metadata": {
        "colab": {
          "base_uri": "https://localhost:8080/"
        },
        "id": "Z0Kaj5CPi5yo",
        "outputId": "17e95a14-21f6-4d45-f11f-83e1e551a250"
      },
      "outputs": [
        {
          "data": {
            "text/plain": [
              "['regression_model.joblib']"
            ]
          },
          "execution_count": 695,
          "metadata": {},
          "output_type": "execute_result"
        }
      ],
      "source": [
        "dump(regression_model, 'regression_model.joblib')"
      ]
    },
    {
      "cell_type": "code",
      "execution_count": null,
      "metadata": {
        "colab": {
          "base_uri": "https://localhost:8080/"
        },
        "id": "iqp5qRHli8hK",
        "outputId": "708334b9-375f-439d-8b1e-986e449fcc1d"
      },
      "outputs": [
        {
          "data": {
            "text/plain": [
              "['classification_model.joblib']"
            ]
          },
          "execution_count": 696,
          "metadata": {},
          "output_type": "execute_result"
        }
      ],
      "source": [
        "dump(classifier, 'classification_model.joblib')"
      ]
    },
    {
      "cell_type": "markdown",
      "metadata": {
        "id": "LIYLYyx_jDqU"
      },
      "source": [
        "Modificar o Script do Servidor Flask:"
      ]
    },
    {
      "cell_type": "code",
      "execution_count": null,
      "metadata": {
        "id": "JnFiwrNXjHg5"
      },
      "outputs": [],
      "source": [
        "app = Flask(__name__)"
      ]
    },
    {
      "cell_type": "code",
      "execution_count": null,
      "metadata": {
        "id": "p9j8D3bmjLgx"
      },
      "outputs": [],
      "source": [
        "# Carregar os modelos treinados\n",
        "regression_model = load('regression_model.joblib')\n",
        "classifier = load('classification_model.joblib')"
      ]
    }
  ],
  "metadata": {
    "colab": {
      "provenance": []
    },
    "kernelspec": {
      "display_name": "Python 3",
      "name": "python3"
    },
    "language_info": {
      "codemirror_mode": {
        "name": "ipython",
        "version": 3
      },
      "file_extension": ".py",
      "mimetype": "text/x-python",
      "name": "python",
      "nbconvert_exporter": "python",
      "pygments_lexer": "ipython3",
      "version": "3.11.6"
    }
  },
  "nbformat": 4,
  "nbformat_minor": 0
}
